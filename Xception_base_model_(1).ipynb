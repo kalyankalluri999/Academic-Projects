{
  "cells": [
    {
      "cell_type": "markdown",
      "metadata": {
        "id": "view-in-github",
        "colab_type": "text"
      },
      "source": [
        "<a href=\"https://colab.research.google.com/github/kalyankalluri999/Academic-Projects/blob/main/Xception_base_model_(1).ipynb\" target=\"_parent\"><img src=\"https://colab.research.google.com/assets/colab-badge.svg\" alt=\"Open In Colab\"/></a>"
      ]
    },
    {
      "cell_type": "code",
      "execution_count": 1,
      "metadata": {
        "id": "J2gCb2WQUaLf"
      },
      "outputs": [],
      "source": [
        "import pandas as pd\n",
        "import numpy as np\n",
        "import matplotlib.pyplot as plt\n",
        "import os\n",
        "import gc\n",
        "import random\n",
        "from itertools import chain\n",
        "from sklearn.preprocessing import LabelEncoder\n",
        "from sklearn.model_selection import train_test_split\n",
        "from tensorflow.keras import layers, models\n",
        "from tensorflow.keras.utils import to_categorical\n",
        "from tensorflow.keras.models import Model, Sequential\n",
        "from tensorflow.keras.preprocessing import image\n",
        "from tensorflow.keras.preprocessing.image import img_to_array, load_img\n",
        "from tensorflow.keras.layers import Input, Dense, Flatten, Dropout\n",
        "from tensorflow.keras.layers import GlobalAveragePooling2D, LeakyReLU, Activation\n",
        "from tensorflow.keras.optimizers import Adam, RMSprop\n",
        "from tensorflow.keras.preprocessing.image import ImageDataGenerator\n",
        "from tensorflow.keras.applications.inception_v3 import InceptionV3\n",
        "from tensorflow.keras.applications.inception_v3 import preprocess_input\n",
        "from tensorflow.keras.applications.inception_v3 import preprocess_input\n",
        "#from tensorflow.keras.utils.plot_model import plot_model\n",
        "import tensorflow as tf\n",
        "from keras.applications.xception import Xception\n",
        "from keras import optimizers\n",
        "from keras.callbacks import ReduceLROnPlateau\n",
        "from tensorflow.keras.callbacks import ModelCheckpoint, EarlyStopping, CSVLogger, ReduceLROnPlateau"
      ]
    },
    {
      "cell_type": "code",
      "execution_count": 2,
      "metadata": {
        "colab": {
          "base_uri": "https://localhost:8080/"
        },
        "id": "YKBUVlFdivaG",
        "outputId": "9c0f09df-3340-4ba4-db85-745788c21759"
      },
      "outputs": [
        {
          "output_type": "stream",
          "name": "stdout",
          "text": [
            "Drive already mounted at /content/gdrive; to attempt to forcibly remount, call drive.mount(\"/content/gdrive\", force_remount=True).\n"
          ]
        }
      ],
      "source": [
        "from google.colab import drive\n",
        "drive.mount('/content/gdrive')"
      ]
    },
    {
      "cell_type": "code",
      "execution_count": 3,
      "metadata": {
        "id": "9K2uNJUeVak4"
      },
      "outputs": [],
      "source": [
        "train_data_dir = '/content/gdrive/MyDrive/Newfolder/TEST_data/'\n",
        "test_data_dir =  '/content/gdrive/MyDrive/Newfolder/TRAIN_data/'\n",
        "img_width, img_height = 299, 299\n",
        "channels = 3\n",
        "batch_size = 64\n",
        "num_images= 50\n",
        "image_arr_size= img_width * img_height * channels\n",
        "#train, val = train_val_split(train_data_dir, train_size=0.8,random_state=0)\n",
        "#print(train)\n",
        "#print(test)"
      ]
    },
    {
      "cell_type": "code",
      "execution_count": 4,
      "metadata": {
        "id": "60z8Vix8W59C"
      },
      "outputs": [],
      "source": [
        "train_datagen = ImageDataGenerator(\n",
        "    rescale= 1./255,\n",
        "    brightness_range=(0.5,1),\n",
        "    shear_range= 0.2,\n",
        "    zoom_range= 0.2,\n",
        "    horizontal_flip= True,\n",
        "    rotation_range= 20,\n",
        "    width_shift_range= 0.2,\n",
        "    height_shift_range= 0.2,   \n",
        "    validation_split=0.3,\n",
        "    \n",
        "\n",
        ")\n",
        "\n",
        "valid_datagen = ImageDataGenerator(\n",
        "    rescale= 1./255, \n",
        "    validation_split=0.3\n",
        "    \n",
        ")"
      ]
    },
    {
      "cell_type": "code",
      "execution_count": 5,
      "metadata": {
        "colab": {
          "base_uri": "https://localhost:8080/"
        },
        "id": "lqdJ7KDTYZW-",
        "outputId": "29789e90-5b4f-4ec4-b454-95ae29cf8ac3"
      },
      "outputs": [
        {
          "output_type": "stream",
          "name": "stdout",
          "text": [
            "Found 4200 images belonging to 120 classes.\n",
            "Found 1800 images belonging to 120 classes.\n",
            "Found 16126 images belonging to 120 classes.\n"
          ]
        }
      ],
      "source": [
        "train_generator = train_datagen.flow_from_directory(  \n",
        "    train_data_dir,  \n",
        "    target_size= (img_width, img_height), \n",
        "    color_mode= 'rgb',\n",
        "    batch_size= batch_size,  \n",
        "    class_mode= 'categorical',\n",
        "    subset='training',\n",
        "    shuffle= True, \n",
        "    seed= 42\n",
        ") \n",
        "\n",
        "valid_generator = valid_datagen.flow_from_directory(\n",
        "    train_data_dir,\n",
        "    target_size= (img_width, img_height),\n",
        "    color_mode= 'rgb',\n",
        "    batch_size= batch_size,  \n",
        "    class_mode= 'categorical',\n",
        "    subset='validation',\n",
        "    shuffle= True, \n",
        "    seed= 1234\n",
        ")\n",
        "test_datagen = ImageDataGenerator(rescale=1./255)\n",
        "test_generator = test_datagen.flow_from_directory(\n",
        "    directory=test_data_dir,\n",
        "    target_size=(299, 299),\n",
        "    color_mode=\"rgb\",\n",
        "    batch_size=32,\n",
        "    class_mode=\"categorical\",\n",
        "    shuffle=False,\n",
        "    seed=42\n",
        ")"
      ]
    },
    {
      "cell_type": "code",
      "execution_count": 6,
      "metadata": {
        "id": "IuAFmeVUY3jd"
      },
      "outputs": [],
      "source": [
        "num_classes = len(train_generator.class_indices)  \n",
        "train_labels = train_generator.classes \n",
        "train_labels = to_categorical(train_labels, num_classes=num_classes)\n",
        "valid_labels = valid_generator.classes \n",
        "valid_labels = to_categorical(valid_labels, num_classes=num_classes)\n",
        "nb_train_samples = len(train_generator.filenames)  \n",
        "nb_valid_samples = len(valid_generator.filenames)"
      ]
    },
    {
      "cell_type": "code",
      "execution_count": 7,
      "metadata": {
        "colab": {
          "base_uri": "https://localhost:8080/"
        },
        "id": "j-lOcr51ZaCx",
        "outputId": "21b5f503-68e2-49a1-edc6-d5d30ae4538e"
      },
      "outputs": [
        {
          "output_type": "stream",
          "name": "stdout",
          "text": [
            "Found 4200 images belonging to 120 classes.\n",
            "Found 1800 images belonging to 120 classes.\n"
          ]
        }
      ],
      "source": [
        "img_generator_flow_train = train_datagen.flow_from_directory(\n",
        "    directory=train_data_dir,\n",
        "    target_size=(299, 299),\n",
        "    batch_size=16,\n",
        "    shuffle=True,\n",
        "    subset=\"training\")\n",
        "\n",
        "img_generator_flow_valid = train_datagen.flow_from_directory(\n",
        "    directory=train_data_dir,\n",
        "    target_size=(299, 299),\n",
        "    batch_size=16,\n",
        "    shuffle=True,\n",
        "    subset=\"validation\")"
      ]
    },
    {
      "cell_type": "code",
      "execution_count": null,
      "metadata": {
        "id": "2-ZQcQvPZpdu"
      },
      "outputs": [],
      "source": [
        "#img = load_img('/content/gdrive/MyDrive/data.zip (Unzipped Files)/Train_data/Appenzeller/n02107908_1030-0.jpg')\n",
        "#data = img_to_array(img)\n",
        "#samples = tf.expand_dims(data, 0)\n",
        "#it = train_datagen.flow(samples, batch_size=1)\n",
        "#\n",
        "#for i in range(9):\n",
        " #   plt.subplot(330 + 1 + i)\n",
        "  #  batch = it.next()\n",
        "   # image = batch[0]\n",
        "   # plt.imshow(image)\n",
        "\n",
        "#plt.savefig('augmented_image.png', transparent= False, bbox_inches= 'tight', dpi= 900)\n",
        "#plt.show()\n",
        "#"
      ]
    },
    {
      "cell_type": "code",
      "execution_count": null,
      "metadata": {
        "id": "toNUevzBXncY"
      },
      "outputs": [],
      "source": [
        "learning_rate_reduction = ReduceLROnPlateau(monitor='val_acc', patience=2, verbose=1, factor=0.5, min_lr=0.00001)\n",
        "base_model =  Xception(weights='imagenet', include_top=False)\n",
        "for layer in base_model.layers:\n",
        "    layer.trainable=False \n",
        "base_model.summary()\n"
      ]
    },
    {
      "cell_type": "code",
      "execution_count": 10,
      "metadata": {
        "id": "I33gen_bYLEW"
      },
      "outputs": [],
      "source": [
        "x = base_model.output\n",
        "x = GlobalAveragePooling2D()(x)\n",
        "# let's add a fully-connected layer\n",
        "x = Dense(1024, activation='relu')(x)\n",
        "# and a logistic layer -- \n",
        "predictions = Dense(120, activation='softmax')(x)\n",
        "# first: train only the top layers (which were randomly initialized)\n",
        "# i.e. freeze all convolutional Xception layers\n",
        "for layer in base_model.layers:\n",
        "    layer.trainable = False   \n",
        "# this is the model we will train\n",
        "xception = Model(inputs=base_model.input, outputs=predictions)\n",
        "xception.compile(loss='categorical_crossentropy', metrics=['accuracy'])"
      ]
    },
    {
      "cell_type": "code",
      "execution_count": 11,
      "metadata": {
        "id": "fp9Wg2QLYk7J"
      },
      "outputs": [],
      "source": [
        "checkpoint = ModelCheckpoint(\n",
        "    'baseline_model.h5',\n",
        "    monitor='val_loss',\n",
        "    verbose=1,\n",
        "    save_best_only=True,\n",
        "    mode='auto',\n",
        "    save_weights_only=False,\n",
        "    save_freq='epoch'\n",
        ")\n",
        "earlystop = EarlyStopping(\n",
        "    monitor='val_loss',\n",
        "    min_delta=0.001,\n",
        "    patience=3,\n",
        "    verbose=1,\n",
        "    mode='auto'\n",
        ")\n",
        "csvlogger = CSVLogger(\n",
        "    filename= \"training_csv.log\",\n",
        "    separator = \",\",\n",
        "    append = False\n",
        ")\n",
        "reduceLR = ReduceLROnPlateau(\n",
        "    monitor='val_loss',\n",
        "    factor=0.1,\n",
        "    patience=3,\n",
        "    verbose=1, \n",
        "    mode='auto'\n",
        ")\n",
        "callbacks = [checkpoint, earlystop, csvlogger,reduceLR]\n",
        "class myCallback(tf.keras.callbacks.Callback):\n",
        "    def on_epoch_end(self, epoch, logs={}):\n",
        "        if(logs.get('accuracy')>0.97):\n",
        "            print(\"\\nReached 97.0% accuracy so cancelling training!\")\n",
        "            \n",
        "            self.model.stop_training = True"
      ]
    },
    {
      "cell_type": "code",
      "execution_count": 12,
      "metadata": {
        "id": "Cy4Vdx50ZJaY"
      },
      "outputs": [],
      "source": [
        "train_datagen = ImageDataGenerator(\n",
        "    rescale= 1./255,\n",
        "    brightness_range=(0.5,1),\n",
        "    shear_range= 0.2,\n",
        "    zoom_range= 0.2,\n",
        "    horizontal_flip= True,\n",
        "    rotation_range= 20,\n",
        "    width_shift_range= 0.2,\n",
        "    height_shift_range= 0.2,   \n",
        "    validation_split=0.3,\n",
        ")\n",
        "valid_datagen = ImageDataGenerator(\n",
        "    rescale= 1./255, \n",
        "    validation_split=0.3    \n",
        ")"
      ]
    },
    {
      "cell_type": "code",
      "execution_count": 14,
      "metadata": {
        "colab": {
          "base_uri": "https://localhost:8080/"
        },
        "id": "8L_GkkZcvYRM",
        "outputId": "a6bb7619-e042-4503-94fc-f7c57f2bc859"
      },
      "outputs": [
        {
          "output_type": "stream",
          "name": "stdout",
          "text": [
            "Found 6000 images belonging to 120 classes.\n"
          ]
        }
      ],
      "source": [
        "training_set = train_datagen.flow_from_directory('/content/gdrive/MyDrive/Newfolder/TEST_data/',\n",
        "                                                 target_size = (224, 224),\n",
        "                                                 batch_size = 64,\n",
        "                                                 class_mode = 'categorical')"
      ]
    },
    {
      "cell_type": "code",
      "execution_count": 15,
      "metadata": {
        "colab": {
          "base_uri": "https://localhost:8080/"
        },
        "id": "nIpFT1uDvqDP",
        "outputId": "c384cbc0-3b34-449e-b362-3d0a0f01295a"
      },
      "outputs": [
        {
          "output_type": "stream",
          "name": "stdout",
          "text": [
            "Found 16126 images belonging to 120 classes.\n"
          ]
        }
      ],
      "source": [
        "test_set = test_datagen.flow_from_directory('/content/gdrive/MyDrive/Newfolder/TRAIN_data/',\n",
        "                                            target_size = (224, 224),\n",
        "                                            batch_size = 64,\n",
        "                                            class_mode = 'categorical')"
      ]
    },
    {
      "cell_type": "code",
      "execution_count": 16,
      "metadata": {
        "colab": {
          "base_uri": "https://localhost:8080/"
        },
        "id": "oiNODK5pvxLu",
        "outputId": "8c61b05d-6573-4e5f-90cb-86131e05b889"
      },
      "outputs": [
        {
          "output_type": "stream",
          "name": "stderr",
          "text": [
            "/usr/local/lib/python3.7/dist-packages/ipykernel_launcher.py:8: UserWarning: `Model.fit_generator` is deprecated and will be removed in a future version. Please use `Model.fit`, which supports generators.\n",
            "  \n"
          ]
        },
        {
          "output_type": "stream",
          "name": "stdout",
          "text": [
            "Epoch 1/10\n",
            "94/94 [==============================] - 1189s 12s/step - loss: 1.4115 - accuracy: 0.6425 - val_loss: 0.6710 - val_accuracy: 0.8000\n",
            "Epoch 2/10\n",
            "94/94 [==============================] - 245s 3s/step - loss: 0.7655 - accuracy: 0.7705 - val_loss: 0.6314 - val_accuracy: 0.8013\n",
            "Epoch 3/10\n",
            "94/94 [==============================] - 254s 3s/step - loss: 0.6727 - accuracy: 0.7975 - val_loss: 0.5387 - val_accuracy: 0.8285\n",
            "Epoch 4/10\n",
            "94/94 [==============================] - 250s 3s/step - loss: 0.5724 - accuracy: 0.8225 - val_loss: 0.4710 - val_accuracy: 0.8497\n",
            "Epoch 5/10\n",
            "94/94 [==============================] - 252s 3s/step - loss: 0.5243 - accuracy: 0.8308 - val_loss: 0.4004 - val_accuracy: 0.8688\n",
            "Epoch 6/10\n",
            "94/94 [==============================] - 251s 3s/step - loss: 0.4901 - accuracy: 0.8390 - val_loss: 0.4170 - val_accuracy: 0.8668\n",
            "Epoch 7/10\n",
            "94/94 [==============================] - 250s 3s/step - loss: 0.4540 - accuracy: 0.8495 - val_loss: 0.3776 - val_accuracy: 0.8778\n",
            "Epoch 8/10\n",
            "94/94 [==============================] - 248s 3s/step - loss: 0.4160 - accuracy: 0.8587 - val_loss: 0.3609 - val_accuracy: 0.8812\n",
            "Epoch 9/10\n",
            "94/94 [==============================] - 249s 3s/step - loss: 0.3986 - accuracy: 0.8680 - val_loss: 0.3522 - val_accuracy: 0.8825\n",
            "Epoch 10/10\n",
            "94/94 [==============================] - 248s 3s/step - loss: 0.3779 - accuracy: 0.8737 - val_loss: 0.2946 - val_accuracy: 0.9007\n"
          ]
        }
      ],
      "source": [
        "# fit the model\n",
        "# Run the cell. It will take some time to execute\n",
        "r = xception.fit_generator(\n",
        "  training_set,\n",
        "  validation_data=training_set,\n",
        "  epochs=10,\n",
        "  steps_per_epoch=len(training_set),\n",
        "  validation_steps=len(training_set)\n",
        ")"
      ]
    },
    {
      "cell_type": "code",
      "execution_count": 17,
      "metadata": {
        "colab": {
          "base_uri": "https://localhost:8080/",
          "height": 545
        },
        "id": "1lqkZnnIZdDw",
        "outputId": "9deb824e-c476-4490-d01c-087a64a871df"
      },
      "outputs": [
        {
          "output_type": "display_data",
          "data": {
            "text/plain": [
              "<Figure size 432x288 with 1 Axes>"
            ],
            "image/png": "[encoded data removed]"
          },
          "metadata": {
            "needs_background": "light"
          }
        },
        {
          "output_type": "display_data",
          "data": {
            "text/plain": [
              "<Figure size 432x288 with 1 Axes>"
            ],
            "image/png": "[encoded data removed]"
          },
          "metadata": {
            "needs_background": "light"
          }
        }
      ],
      "source": [
        "acc = r.history['accuracy']\n",
        "val_acc = r.history['val_accuracy']\n",
        "loss = r.history['loss']\n",
        "val_loss = r.history['val_loss']\n",
        "epochs = range(len(acc))\n",
        "plt.plot(epochs, acc, 'bo', label='Training accuracy')\n",
        "plt.plot(epochs, val_acc, 'b', label='Validation accuracy')\n",
        "plt.title('Training and validation accuracy')\n",
        "plt.figure()\n",
        "plt.plot(epochs, loss, 'bo', label='Training Loss')\n",
        "plt.plot(epochs, val_loss, 'b', label='Validation Loss')\n",
        "plt.title('Training and validation loss')\n",
        "plt.legend()\n",
        "plt.show()"
      ]
    },
    {
      "cell_type": "code",
      "execution_count": 19,
      "metadata": {
        "id": "tBLG9TWtZiBu",
        "colab": {
          "base_uri": "https://localhost:8080/",
          "height": 295
        },
        "outputId": "00fd3d5c-9b3b-48bd-be3c-5df55af691bb"
      },
      "outputs": [
        {
          "output_type": "display_data",
          "data": {
            "text/plain": [
              "<Figure size 432x288 with 1 Axes>"
            ],
            "image/png": "[encoded data removed]"
          },
          "metadata": {
            "needs_background": "light"
          }
        }
      ],
      "source": [
        "plt.subplot()\n",
        "plt.title('Model Accuracy')\n",
        "plt.plot (r.history['accuracy'])\n",
        "plt.plot (r.history['val_accuracy'])\n",
        "plt.ylabel('Accuracy')\n",
        "plt.xlabel('Epochs')\n",
        "plt.legend(['Training Accuracy','Validation Accuracy'])\n",
        "plt.savefig('baseline_acc_epoch.png', transparent= False, bbox_inches= 'tight', dpi= 900)\n",
        "plt.show()"
      ]
    },
    {
      "cell_type": "code",
      "execution_count": 21,
      "metadata": {
        "id": "__S8aXBnZmhU",
        "colab": {
          "base_uri": "https://localhost:8080/",
          "height": 295
        },
        "outputId": "c770e3b3-76a6-4f9f-ac00-92cad669a4d4"
      },
      "outputs": [
        {
          "output_type": "display_data",
          "data": {
            "text/plain": [
              "<Figure size 432x288 with 1 Axes>"
            ],
            "image/png": "[encoded data removed]"
          },
          "metadata": {
            "needs_background": "light"
          }
        }
      ],
      "source": [
        "plt.title('Model Loss')\n",
        "plt.plot(r.history['loss'])\n",
        "plt.plot(r.history['val_loss'])\n",
        "plt.ylabel('Loss')\n",
        "plt.xlabel('Epochs')\n",
        "plt.legend(['Training Loss','Validation Loss'])\n",
        "plt.savefig('baseline_loss_epoch.png', transparent= False, bbox_inches= 'tight', dpi= 900)\n",
        "plt.show()"
      ]
    }
  ],
  "metadata": {
    "colab": {
      "collapsed_sections": [],
      "name": "Xception_base_model_(1).ipynb",
      "provenance": [],
      "include_colab_link": true
    },
    "kernelspec": {
      "display_name": "Python 3 (ipykernel)",
      "language": "python",
      "name": "python3"
    },
    "language_info": {
      "codemirror_mode": {
        "name": "ipython",
        "version": 3
      },
      "file_extension": ".py",
      "mimetype": "text/x-python",
      "name": "python",
      "nbconvert_exporter": "python",
      "pygments_lexer": "ipython3",
      "version": "3.9.6"
    },
    "accelerator": "GPU"
  },
  "nbformat": 4,
  "nbformat_minor": 0
}