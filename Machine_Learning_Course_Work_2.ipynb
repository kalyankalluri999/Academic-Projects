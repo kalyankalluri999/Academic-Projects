{
  "cells": [
    {
      "cell_type": "markdown",
      "metadata": {
        "id": "view-in-github",
        "colab_type": "text"
      },
      "source": [
        "<a href=\"https://colab.research.google.com/github/kalyankalluri999/Academic-Projects/blob/main/Machine_Learning_Course_Work_2.ipynb\" target=\"_parent\"><img src=\"https://colab.research.google.com/assets/colab-badge.svg\" alt=\"Open In Colab\"/></a>"
      ]
    },
    {
      "cell_type": "markdown",
      "source": [
        "# New Section"
      ],
      "metadata": {
        "id": "L4TMrZeg5fU4"
      }
    },
    {
      "cell_type": "code",
      "execution_count": null,
      "metadata": {
        "id": "LOZb1icgRHDi"
      },
      "outputs": [],
      "source": [
        "import pandas as pd\n",
        "import numpy as np\n",
        "import matplotlib.pyplot as plt\n",
        "import os\n",
        "import gc\n",
        "import random\n",
        "from itertools import chain\n",
        "from sklearn.preprocessing import LabelEncoder\n",
        "from sklearn.model_selection import train_test_split\n",
        "from tensorflow.keras import layers, models\n",
        "from tensorflow.keras.utils import to_categorical\n",
        "from tensorflow.keras.models import Model, Sequential\n",
        "from tensorflow.keras.preprocessing import image\n",
        "from tensorflow.keras.preprocessing.image import img_to_array, load_img\n",
        "from tensorflow.keras.layers import Input, Dense, Flatten, Dropout\n",
        "from tensorflow.keras.layers import GlobalAveragePooling2D, LeakyReLU, Activation\n",
        "from tensorflow.keras.optimizers import Adam, RMSprop\n",
        "from tensorflow.keras.preprocessing.image import ImageDataGenerator\n",
        "from tensorflow.keras.applications.inception_v3 import InceptionV3\n",
        "from tensorflow.keras.applications.inception_v3 import preprocess_input\n",
        "from tensorflow.keras.applications.inception_v3 import preprocess_input\n",
        "#from tensorflow.keras.utils.plot_model import plot_model\n",
        "import tensorflow as tf"
      ]
    },
    {
      "cell_type": "markdown",
      "source": [
        "# Data Pre-Processing and Model Implementation"
      ],
      "metadata": {
        "id": "xHDH1Z9wb7Vs"
      }
    },
    {
      "cell_type": "code",
      "execution_count": null,
      "metadata": {
        "id": "-UEkQ0cCRTd5"
      },
      "outputs": [],
      "source": [
        "dog_breeds = os.listdir('/content/drive/MyDrive/Link_2/images/')\n",
        "print(dog_breeds)"
      ]
    },
    {
      "cell_type": "code",
      "execution_count": null,
      "metadata": {
        "id": "QS7edNDURiaY"
      },
      "outputs": [],
      "source": [
        "filtered_breeds = [breed.split('-',1)[1] for breed in dog_breeds]\n",
        "filtered_breeds[:]"
      ]
    },
    {
      "cell_type": "code",
      "execution_count": null,
      "metadata": {
        "id": "a-Bt3kaCRq97"
      },
      "outputs": [],
      "source": [
        "X = []\n",
        "y = []\n",
        "\n",
        "fullpaths = ['/content/drive/MyDrive/Link_2/images/{}'.format(dog_breeds) for dog_breeds in dog_breeds]\n",
        "\n",
        "for counter, fullpath in enumerate(fullpaths):\n",
        "    for imgname in os.listdir(fullpath):\n",
        "        X.append([fullpath + '/' + imgname])\n",
        "        y.append(filtered_breeds[counter])\n",
        "\n",
        "X = list(chain.from_iterable(X))"
      ]
    },
    {
      "cell_type": "code",
      "execution_count": null,
      "metadata": {
        "id": "0ejTtqNjR2ug"
      },
      "outputs": [],
      "source": [
        "combined = list(zip(X, y))\n",
        "random.shuffle(combined)\n",
        "\n",
        "X[:], y[:] = zip(*combined)"
      ]
    },
    {
      "cell_type": "code",
      "execution_count": null,
      "metadata": {
        "id": "2zTJyUmFR8DQ"
      },
      "outputs": [],
      "source": [
        "X = X[:4000]\n",
        "\n",
        "y = y[:4000]"
      ]
    },
    {
      "cell_type": "code",
      "execution_count": null,
      "metadata": {
        "id": "EtVgl9roR_I7"
      },
      "outputs": [],
      "source": [
        "labels = LabelEncoder()\n",
        "labels.fit(y)\n",
        "label_encoded = to_categorical(labels.transform(y), len(filtered_breeds))\n",
        "label_encoded = np.array(label_encoded)"
      ]
    },
    {
      "cell_type": "code",
      "execution_count": null,
      "metadata": {
        "id": "rp8hq3MtSDU8"
      },
      "outputs": [],
      "source": [
        "images = np.array([img_to_array(load_img(img, target_size = (299,299))) for img in X]) \n",
        "x_train, x_test, y_train, y_test = train_test_split(images, label_encoded, test_size = 0.3,stratify = np.array(y), random_state = 120) \n",
        "\n",
        "x_train, x_val, y_train, y_val = train_test_split(x_train, y_train,test_size = 0.3,stratify=np.array(y_train),random_state = 120)\n",
        "\n",
        "print('Training Dataset Size: ', x_train.shape)\n",
        "print('Training Label Size: ', y_train.shape)\n",
        "print('Validation Dataset Size: ', x_val.shape)\n",
        "print('Validation Label Size: ', y_val.shape)\n",
        "print('Testing Dataset Size: ', x_test.shape)\n",
        "print('Testing Label Size: ', y_test.shape)"
      ]
    },
    {
      "cell_type": "code",
      "source": [
        "pre_trained_model =  InceptionV3 (weights = \"imagenet\", input_shape=(299,299,3), include_top= False)\n",
        "for layer in pre_trained_model.layers:\n",
        "    layer.trainable=False \n",
        "pre_trained_model.summary()"
      ],
      "metadata": {
        "id": "8YFN-XXLWwYn"
      },
      "execution_count": null,
      "outputs": []
    },
    {
      "cell_type": "code",
      "source": [
        "last_layer = pre_trained_model.get_layer('mixed9')\n",
        "print('last layer output shape: ', last_layer.output_shape)\n",
        "last_output = last_layer.output"
      ],
      "metadata": {
        "id": "n5HwkQP9W4k5"
      },
      "execution_count": null,
      "outputs": []
    },
    {
      "cell_type": "code",
      "source": [
        "class myCallback(tf.keras.callbacks.Callback):\n",
        "    def on_epoch_end(self, epoch, logs={}):\n",
        "        if(logs.get('accuracy')>0.97):\n",
        "            print(\"\\nReached 97.0% accuracy so cancelling training!\")\n",
        "            \n",
        "            self.model.stop_training = True"
      ],
      "metadata": {
        "id": "OfDw8TapW9y9"
      },
      "execution_count": null,
      "outputs": []
    },
    {
      "cell_type": "code",
      "source": [
        "model = models.Sequential()\n",
        "model.add(pre_trained_model)\n",
        "model.add(GlobalAveragePooling2D())\n",
        "model.add(Flatten()) \n",
        "model.add(Dropout(0.3))\n",
        "model.add(Dense(2048, activation = 'relu'))\n",
        "model.add(Dense(1024, activation = 'relu'))\n",
        "model.add(Dense(512, activation = 'relu'))\n",
        "model.add(Dense(256, activation = 'relu'))\n",
        "model.add(Dense(len(filtered_breeds), activation = 'softmax'))\n",
        "model.compile(optimizer = RMSprop(learning_rate=0.001), loss ='categorical_crossentropy', metrics =['accuracy'])\n",
        "model.summary()"
      ],
      "metadata": {
        "id": "eVsroW97XCL4"
      },
      "execution_count": null,
      "outputs": []
    },
    {
      "cell_type": "code",
      "source": [
        "tf.keras.utils.plot_model(model, to_file='RMSprop.png', show_shapes=True, show_layer_names=True) "
      ],
      "metadata": {
        "id": "BEBFr7ssXHul"
      },
      "execution_count": null,
      "outputs": []
    },
    {
      "cell_type": "code",
      "source": [
        "train_datagen = ImageDataGenerator(rescale = 1./255.,\n",
        "                                   rotation_range = 40,\n",
        "                                   width_shift_range = 0.2,\n",
        "                                   height_shift_range = 0.2,\n",
        "                                   shear_range = 0.2,\n",
        "                                   zoom_range = 0.2,\n",
        "                                   horizontal_flip = True\n",
        ")\n",
        "\n",
        "train_generator = train_datagen.flow(x_train,y_train,shuffle=False,batch_size=25)\n",
        "val_datagen = ImageDataGenerator(preprocessing_function=preprocess_input)\n",
        "validation_generator = val_datagen.flow(x_val,y_val,shuffle= False,batch_size=25)"
      ],
      "metadata": {
        "id": "h9kdTc2vXR8L"
      },
      "execution_count": null,
      "outputs": []
    },
    {
      "cell_type": "code",
      "source": [
        "callbacks = myCallback()\n",
        "epochs = 40\n",
        "history = model.fit_generator(train_generator, epochs = epochs,validation_data = validation_generator, callbacks = [callbacks])"
      ],
      "metadata": {
        "id": "9SxT-W4bXbtj"
      },
      "execution_count": null,
      "outputs": []
    },
    {
      "cell_type": "code",
      "source": [
        "acc = history.history['accuracy']\n",
        "val_acc = history.history['val_accuracy']\n",
        "loss = history.history['loss']\n",
        "val_loss = history.history['val_loss']\n",
        "epochs = range(len(acc))\n",
        "plt.plot(epochs, acc, 'bo', label='Training accuracy')\n",
        "plt.plot(epochs, val_acc, 'b', label='Validation accuracy')\n",
        "plt.title('Training and validation accuracy')\n",
        "plt.figure()\n",
        "plt.plot(epochs, loss, 'bo', label='Training Loss')\n",
        "plt.plot(epochs, val_loss, 'b', label='Validation Loss')\n",
        "plt.title('Training and validation loss')\n",
        "plt.legend()\n",
        "plt.show()"
      ],
      "metadata": {
        "id": "SxWAZQFERFqB"
      },
      "execution_count": null,
      "outputs": []
    }
  ],
  "metadata": {
    "colab": {
      "name": "Untitled6.ipynb",
      "private_outputs": true,
      "provenance": [],
      "toc_visible": true,
      "collapsed_sections": [],
      "mount_file_id": "14AKLKps2Ji9bqOFiYLTuYOUYy_3c-VQK",
      "authorship_tag": "ABX9TyNn+/60M+pi+QtzXaaeaURY",
      "include_colab_link": true
    },
    "kernelspec": {
      "display_name": "Python 3",
      "name": "python3"
    },
    "language_info": {
      "name": "python"
    },
    "accelerator": "GPU"
  },
  "nbformat": 4,
  "nbformat_minor": 0
}