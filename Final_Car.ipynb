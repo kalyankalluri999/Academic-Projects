{
  "nbformat": 4,
  "nbformat_minor": 0,
  "metadata": {
    "colab": {
      "provenance": [],
      "collapsed_sections": [
        "Ayjiulbab767"
      ],
      "include_colab_link": true
    },
    "kernelspec": {
      "name": "python3",
      "display_name": "Python 3"
    },
    "language_info": {
      "name": "python"
    }
  },
  "cells": [
    {
      "cell_type": "markdown",
      "metadata": {
        "id": "view-in-github",
        "colab_type": "text"
      },
      "source": [
        "<a href=\"https://colab.research.google.com/github/kalyankalluri999/Academic-Projects/blob/main/Final_Car.ipynb\" target=\"_parent\"><img src=\"https://colab.research.google.com/assets/colab-badge.svg\" alt=\"Open In Colab\"/></a>"
      ]
    },
    {
      "cell_type": "markdown",
      "source": [
        "**Problem Statement:-** More specifically, we are working with a Car Sale Adverts dataset provided by AutoTrader(one of the industry partners). The dataset contains an anonymised collection of adverts with information on vehicles such as brand, type, colour, mileage, as well as the selling price.  Need to\n",
        "perform a structured set of tasks with the ultimate goal of learning about associations and group differences that have a significant effect on the valuation of vehicles."
      ],
      "metadata": {
        "id": "YjSouia6gM8Z"
      }
    },
    {
      "cell_type": "markdown",
      "source": [
        "Below steps are performed :-\n",
        "\n",
        "1. **Exploratory Data Analysis**\n",
        "\n",
        "2. **Data Preprocessing**\n",
        "\n",
        "3. **Association and Group Differences**\n",
        "\n",
        "4. **Model Implemetation**"
      ],
      "metadata": {
        "id": "3ICjsZFlgzvf"
      }
    },
    {
      "cell_type": "markdown",
      "source": [
        "# **Exploratory Data Analysis**"
      ],
      "metadata": {
        "id": "a17bfuyBbxTo"
      }
    },
    {
      "cell_type": "markdown",
      "source": [
        "**Importing Standard Python Libraries**"
      ],
      "metadata": {
        "id": "nD8ngXimhS05"
      }
    },
    {
      "cell_type": "code",
      "execution_count": 1,
      "metadata": {
        "id": "9LjmlN8Na8QO"
      },
      "outputs": [],
      "source": [
        "import pandas as pd\n",
        "# Pandas library used for data analysis and manipulation\n",
        "import numpy as np #Numpy library used for Mathematical operations\n",
        "#Seaborn and Matplotlib libraries are used for plotting\n",
        "import seaborn as sns   \n",
        "import matplotlib.pyplot as plt"
      ]
    },
    {
      "cell_type": "markdown",
      "source": [
        "**Loading and reading dataset using pandas library**"
      ],
      "metadata": {
        "id": "s2xDIBNPhbOc"
      }
    },
    {
      "cell_type": "code",
      "source": [
        "car_dataset = pd.read_csv('adverts.csv')\n"
      ],
      "metadata": {
        "id": "6IHetQo-bcT1"
      },
      "execution_count": 2,
      "outputs": []
    },
    {
      "cell_type": "code",
      "source": [
        "car_dataset.head()"
      ],
      "metadata": {
        "colab": {
          "base_uri": "https://localhost:8080/",
          "height": 205
        },
        "id": "ToVYmuy6o0fL",
        "outputId": "c98a18a5-8fba-4f70-8296-8eaca20caef0"
      },
      "execution_count": 3,
      "outputs": [
        {
          "output_type": "execute_result",
          "data": {
            "text/plain": [
              "   public_reference   mileage reg_code standard_colour standard_make  \\\n",
              "0   202006039777689       0.0      NaN            Grey         Volvo   \n",
              "1   202007020778260  108230.0       61            Blue        Jaguar   \n",
              "2   202007020778474    7800.0       17            Grey         SKODA   \n",
              "3   202007080986776   45000.0       16           Brown      Vauxhall   \n",
              "4   202007161321269   64000.0       64            Grey    Land Rover   \n",
              "\n",
              "      standard_model vehicle_condition  year_of_registration  price  \\\n",
              "0               XC90               NEW                   NaN  73970   \n",
              "1                 XF              USED                2011.0   7000   \n",
              "2               Yeti              USED                2017.0  14000   \n",
              "3              Mokka              USED                2016.0   7995   \n",
              "4  Range Rover Sport              USED                2015.0  26995   \n",
              "\n",
              "   body_type  crossover_car_and_van              fuel_type  \n",
              "0        SUV                  False  Petrol Plug-in Hybrid  \n",
              "1     Saloon                  False                 Diesel  \n",
              "2        SUV                  False                 Petrol  \n",
              "3  Hatchback                  False                 Diesel  \n",
              "4        SUV                  False                 Diesel  "
            ],
            "text/html": [
              "\n",
              "  <div id=\"df-a77a8630-6e3c-4ae7-8f39-6c362f51419d\">\n",
              "    <div class=\"colab-df-container\">\n",
              "      <div>\n",
              "<style scoped>\n",
              "    .dataframe tbody tr th:only-of-type {\n",
              "        vertical-align: middle;\n",
              "    }\n",
              "\n",
              "    .dataframe tbody tr th {\n",
              "        vertical-align: top;\n",
              "    }\n",
              "\n",
              "    .dataframe thead th {\n",
              "        text-align: right;\n",
              "    }\n",
              "</style>\n",
              "<table border=\"1\" class=\"dataframe\">\n",
              "  <thead>\n",
              "    <tr style=\"text-align: right;\">\n",
              "      <th></th>\n",
              "      <th>public_reference</th>\n",
              "      <th>mileage</th>\n",
              "      <th>reg_code</th>\n",
              "      <th>standard_colour</th>\n",
              "      <th>standard_make</th>\n",
              "      <th>standard_model</th>\n",
              "      <th>vehicle_condition</th>\n",
              "      <th>year_of_registration</th>\n",
              "      <th>price</th>\n",
              "      <th>body_type</th>\n",
              "      <th>crossover_car_and_van</th>\n",
              "      <th>fuel_type</th>\n",
              "    </tr>\n",
              "  </thead>\n",
              "  <tbody>\n",
              "    <tr>\n",
              "      <th>0</th>\n",
              "      <td>202006039777689</td>\n",
              "      <td>0.0</td>\n",
              "      <td>NaN</td>\n",
              "      <td>Grey</td>\n",
              "      <td>Volvo</td>\n",
              "      <td>XC90</td>\n",
              "      <td>NEW</td>\n",
              "      <td>NaN</td>\n",
              "      <td>73970</td>\n",
              "      <td>SUV</td>\n",
              "      <td>False</td>\n",
              "      <td>Petrol Plug-in Hybrid</td>\n",
              "    </tr>\n",
              "    <tr>\n",
              "      <th>1</th>\n",
              "      <td>202007020778260</td>\n",
              "      <td>108230.0</td>\n",
              "      <td>61</td>\n",
              "      <td>Blue</td>\n",
              "      <td>Jaguar</td>\n",
              "      <td>XF</td>\n",
              "      <td>USED</td>\n",
              "      <td>2011.0</td>\n",
              "      <td>7000</td>\n",
              "      <td>Saloon</td>\n",
              "      <td>False</td>\n",
              "      <td>Diesel</td>\n",
              "    </tr>\n",
              "    <tr>\n",
              "      <th>2</th>\n",
              "      <td>202007020778474</td>\n",
              "      <td>7800.0</td>\n",
              "      <td>17</td>\n",
              "      <td>Grey</td>\n",
              "      <td>SKODA</td>\n",
              "      <td>Yeti</td>\n",
              "      <td>USED</td>\n",
              "      <td>2017.0</td>\n",
              "      <td>14000</td>\n",
              "      <td>SUV</td>\n",
              "      <td>False</td>\n",
              "      <td>Petrol</td>\n",
              "    </tr>\n",
              "    <tr>\n",
              "      <th>3</th>\n",
              "      <td>202007080986776</td>\n",
              "      <td>45000.0</td>\n",
              "      <td>16</td>\n",
              "      <td>Brown</td>\n",
              "      <td>Vauxhall</td>\n",
              "      <td>Mokka</td>\n",
              "      <td>USED</td>\n",
              "      <td>2016.0</td>\n",
              "      <td>7995</td>\n",
              "      <td>Hatchback</td>\n",
              "      <td>False</td>\n",
              "      <td>Diesel</td>\n",
              "    </tr>\n",
              "    <tr>\n",
              "      <th>4</th>\n",
              "      <td>202007161321269</td>\n",
              "      <td>64000.0</td>\n",
              "      <td>64</td>\n",
              "      <td>Grey</td>\n",
              "      <td>Land Rover</td>\n",
              "      <td>Range Rover Sport</td>\n",
              "      <td>USED</td>\n",
              "      <td>2015.0</td>\n",
              "      <td>26995</td>\n",
              "      <td>SUV</td>\n",
              "      <td>False</td>\n",
              "      <td>Diesel</td>\n",
              "    </tr>\n",
              "  </tbody>\n",
              "</table>\n",
              "</div>\n",
              "      <button class=\"colab-df-convert\" onclick=\"convertToInteractive('df-a77a8630-6e3c-4ae7-8f39-6c362f51419d')\"\n",
              "              title=\"Convert this dataframe to an interactive table.\"\n",
              "              style=\"display:none;\">\n",
              "        \n",
              "  <svg xmlns=\"http://www.w3.org/2000/svg\" height=\"24px\"viewBox=\"0 0 24 24\"\n",
              "       width=\"24px\">\n",
              "    <path d=\"M0 0h24v24H0V0z\" fill=\"none\"/>\n",
              "    <path d=\"M18.56 5.44l.94 2.06.94-2.06 2.06-.94-2.06-.94-.94-2.06-.94 2.06-2.06.94zm-11 1L8.5 8.5l.94-2.06 2.06-.94-2.06-.94L8.5 2.5l-.94 2.06-2.06.94zm10 10l.94 2.06.94-2.06 2.06-.94-2.06-.94-.94-2.06-.94 2.06-2.06.94z\"/><path d=\"M17.41 7.96l-1.37-1.37c-.4-.4-.92-.59-1.43-.59-.52 0-1.04.2-1.43.59L10.3 9.45l-7.72 7.72c-.78.78-.78 2.05 0 2.83L4 21.41c.39.39.9.59 1.41.59.51 0 1.02-.2 1.41-.59l7.78-7.78 2.81-2.81c.8-.78.8-2.07 0-2.86zM5.41 20L4 18.59l7.72-7.72 1.47 1.35L5.41 20z\"/>\n",
              "  </svg>\n",
              "      </button>\n",
              "      \n",
              "  <style>\n",
              "    .colab-df-container {\n",
              "      display:flex;\n",
              "      flex-wrap:wrap;\n",
              "      gap: 12px;\n",
              "    }\n",
              "\n",
              "    .colab-df-convert {\n",
              "      background-color: #E8F0FE;\n",
              "      border: none;\n",
              "      border-radius: 50%;\n",
              "      cursor: pointer;\n",
              "      display: none;\n",
              "      fill: #1967D2;\n",
              "      height: 32px;\n",
              "      padding: 0 0 0 0;\n",
              "      width: 32px;\n",
              "    }\n",
              "\n",
              "    .colab-df-convert:hover {\n",
              "      background-color: #E2EBFA;\n",
              "      box-shadow: 0px 1px 2px rgba(60, 64, 67, 0.3), 0px 1px 3px 1px rgba(60, 64, 67, 0.15);\n",
              "      fill: #174EA6;\n",
              "    }\n",
              "\n",
              "    [theme=dark] .colab-df-convert {\n",
              "      background-color: #3B4455;\n",
              "      fill: #D2E3FC;\n",
              "    }\n",
              "\n",
              "    [theme=dark] .colab-df-convert:hover {\n",
              "      background-color: #434B5C;\n",
              "      box-shadow: 0px 1px 3px 1px rgba(0, 0, 0, 0.15);\n",
              "      filter: drop-shadow(0px 1px 2px rgba(0, 0, 0, 0.3));\n",
              "      fill: #FFFFFF;\n",
              "    }\n",
              "  </style>\n",
              "\n",
              "      <script>\n",
              "        const buttonEl =\n",
              "          document.querySelector('#df-a77a8630-6e3c-4ae7-8f39-6c362f51419d button.colab-df-convert');\n",
              "        buttonEl.style.display =\n",
              "          google.colab.kernel.accessAllowed ? 'block' : 'none';\n",
              "\n",
              "        async function convertToInteractive(key) {\n",
              "          const element = document.querySelector('#df-a77a8630-6e3c-4ae7-8f39-6c362f51419d');\n",
              "          const dataTable =\n",
              "            await google.colab.kernel.invokeFunction('convertToInteractive',\n",
              "                                                     [key], {});\n",
              "          if (!dataTable) return;\n",
              "\n",
              "          const docLinkHtml = 'Like what you see? Visit the ' +\n",
              "            '<a target=\"_blank\" href=https://colab.research.google.com/notebooks/data_table.ipynb>data table notebook</a>'\n",
              "            + ' to learn more about interactive tables.';\n",
              "          element.innerHTML = '';\n",
              "          dataTable['output_type'] = 'display_data';\n",
              "          await google.colab.output.renderOutput(dataTable, element);\n",
              "          const docLink = document.createElement('div');\n",
              "          docLink.innerHTML = docLinkHtml;\n",
              "          element.appendChild(docLink);\n",
              "        }\n",
              "      </script>\n",
              "    </div>\n",
              "  </div>\n",
              "  "
            ]
          },
          "metadata": {},
          "execution_count": 3
        }
      ]
    },
    {
      "cell_type": "code",
      "source": [
        "car_dataset.tail()"
      ],
      "metadata": {
        "colab": {
          "base_uri": "https://localhost:8080/",
          "height": 205
        },
        "id": "NXk6N4ouci7y",
        "outputId": "93449452-1830-416b-deb4-a7dad25a8813"
      },
      "execution_count": 4,
      "outputs": [
        {
          "output_type": "execute_result",
          "data": {
            "text/plain": [
              "        public_reference   mileage reg_code standard_colour standard_make  \\\n",
              "402000   202010315652942    5179.0       69            Grey       Peugeot   \n",
              "402001   202010315657341  110000.0       59             Red       Peugeot   \n",
              "402002   202010315659271   52760.0       62           White        Nissan   \n",
              "402003   202011015662436   10250.0       65             Red        Abarth   \n",
              "402004   201512149444029   14000.0       14          Silver          Audi   \n",
              "\n",
              "       standard_model vehicle_condition  year_of_registration  price  \\\n",
              "402000            208              USED                2019.0  10595   \n",
              "402001            107              USED                2009.0   2000   \n",
              "402002        Qashqai              USED                2012.0   7250   \n",
              "402003            595              USED                2015.0  11490   \n",
              "402004       A4 Avant              USED                2014.0  20520   \n",
              "\n",
              "        body_type  crossover_car_and_van fuel_type  \n",
              "402000  Hatchback                  False    Petrol  \n",
              "402001  Hatchback                  False    Petrol  \n",
              "402002        SUV                  False    Petrol  \n",
              "402003  Hatchback                  False    Petrol  \n",
              "402004     Estate                  False    Diesel  "
            ],
            "text/html": [
              "\n",
              "  <div id=\"df-0cc0824d-28b3-40d1-bee0-c6180599fcad\">\n",
              "    <div class=\"colab-df-container\">\n",
              "      <div>\n",
              "<style scoped>\n",
              "    .dataframe tbody tr th:only-of-type {\n",
              "        vertical-align: middle;\n",
              "    }\n",
              "\n",
              "    .dataframe tbody tr th {\n",
              "        vertical-align: top;\n",
              "    }\n",
              "\n",
              "    .dataframe thead th {\n",
              "        text-align: right;\n",
              "    }\n",
              "</style>\n",
              "<table border=\"1\" class=\"dataframe\">\n",
              "  <thead>\n",
              "    <tr style=\"text-align: right;\">\n",
              "      <th></th>\n",
              "      <th>public_reference</th>\n",
              "      <th>mileage</th>\n",
              "      <th>reg_code</th>\n",
              "      <th>standard_colour</th>\n",
              "      <th>standard_make</th>\n",
              "      <th>standard_model</th>\n",
              "      <th>vehicle_condition</th>\n",
              "      <th>year_of_registration</th>\n",
              "      <th>price</th>\n",
              "      <th>body_type</th>\n",
              "      <th>crossover_car_and_van</th>\n",
              "      <th>fuel_type</th>\n",
              "    </tr>\n",
              "  </thead>\n",
              "  <tbody>\n",
              "    <tr>\n",
              "      <th>402000</th>\n",
              "      <td>202010315652942</td>\n",
              "      <td>5179.0</td>\n",
              "      <td>69</td>\n",
              "      <td>Grey</td>\n",
              "      <td>Peugeot</td>\n",
              "      <td>208</td>\n",
              "      <td>USED</td>\n",
              "      <td>2019.0</td>\n",
              "      <td>10595</td>\n",
              "      <td>Hatchback</td>\n",
              "      <td>False</td>\n",
              "      <td>Petrol</td>\n",
              "    </tr>\n",
              "    <tr>\n",
              "      <th>402001</th>\n",
              "      <td>202010315657341</td>\n",
              "      <td>110000.0</td>\n",
              "      <td>59</td>\n",
              "      <td>Red</td>\n",
              "      <td>Peugeot</td>\n",
              "      <td>107</td>\n",
              "      <td>USED</td>\n",
              "      <td>2009.0</td>\n",
              "      <td>2000</td>\n",
              "      <td>Hatchback</td>\n",
              "      <td>False</td>\n",
              "      <td>Petrol</td>\n",
              "    </tr>\n",
              "    <tr>\n",
              "      <th>402002</th>\n",
              "      <td>202010315659271</td>\n",
              "      <td>52760.0</td>\n",
              "      <td>62</td>\n",
              "      <td>White</td>\n",
              "      <td>Nissan</td>\n",
              "      <td>Qashqai</td>\n",
              "      <td>USED</td>\n",
              "      <td>2012.0</td>\n",
              "      <td>7250</td>\n",
              "      <td>SUV</td>\n",
              "      <td>False</td>\n",
              "      <td>Petrol</td>\n",
              "    </tr>\n",
              "    <tr>\n",
              "      <th>402003</th>\n",
              "      <td>202011015662436</td>\n",
              "      <td>10250.0</td>\n",
              "      <td>65</td>\n",
              "      <td>Red</td>\n",
              "      <td>Abarth</td>\n",
              "      <td>595</td>\n",
              "      <td>USED</td>\n",
              "      <td>2015.0</td>\n",
              "      <td>11490</td>\n",
              "      <td>Hatchback</td>\n",
              "      <td>False</td>\n",
              "      <td>Petrol</td>\n",
              "    </tr>\n",
              "    <tr>\n",
              "      <th>402004</th>\n",
              "      <td>201512149444029</td>\n",
              "      <td>14000.0</td>\n",
              "      <td>14</td>\n",
              "      <td>Silver</td>\n",
              "      <td>Audi</td>\n",
              "      <td>A4 Avant</td>\n",
              "      <td>USED</td>\n",
              "      <td>2014.0</td>\n",
              "      <td>20520</td>\n",
              "      <td>Estate</td>\n",
              "      <td>False</td>\n",
              "      <td>Diesel</td>\n",
              "    </tr>\n",
              "  </tbody>\n",
              "</table>\n",
              "</div>\n",
              "      <button class=\"colab-df-convert\" onclick=\"convertToInteractive('df-0cc0824d-28b3-40d1-bee0-c6180599fcad')\"\n",
              "              title=\"Convert this dataframe to an interactive table.\"\n",
              "              style=\"display:none;\">\n",
              "        \n",
              "  <svg xmlns=\"http://www.w3.org/2000/svg\" height=\"24px\"viewBox=\"0 0 24 24\"\n",
              "       width=\"24px\">\n",
              "    <path d=\"M0 0h24v24H0V0z\" fill=\"none\"/>\n",
              "    <path d=\"M18.56 5.44l.94 2.06.94-2.06 2.06-.94-2.06-.94-.94-2.06-.94 2.06-2.06.94zm-11 1L8.5 8.5l.94-2.06 2.06-.94-2.06-.94L8.5 2.5l-.94 2.06-2.06.94zm10 10l.94 2.06.94-2.06 2.06-.94-2.06-.94-.94-2.06-.94 2.06-2.06.94z\"/><path d=\"M17.41 7.96l-1.37-1.37c-.4-.4-.92-.59-1.43-.59-.52 0-1.04.2-1.43.59L10.3 9.45l-7.72 7.72c-.78.78-.78 2.05 0 2.83L4 21.41c.39.39.9.59 1.41.59.51 0 1.02-.2 1.41-.59l7.78-7.78 2.81-2.81c.8-.78.8-2.07 0-2.86zM5.41 20L4 18.59l7.72-7.72 1.47 1.35L5.41 20z\"/>\n",
              "  </svg>\n",
              "      </button>\n",
              "      \n",
              "  <style>\n",
              "    .colab-df-container {\n",
              "      display:flex;\n",
              "      flex-wrap:wrap;\n",
              "      gap: 12px;\n",
              "    }\n",
              "\n",
              "    .colab-df-convert {\n",
              "      background-color: #E8F0FE;\n",
              "      border: none;\n",
              "      border-radius: 50%;\n",
              "      cursor: pointer;\n",
              "      display: none;\n",
              "      fill: #1967D2;\n",
              "      height: 32px;\n",
              "      padding: 0 0 0 0;\n",
              "      width: 32px;\n",
              "    }\n",
              "\n",
              "    .colab-df-convert:hover {\n",
              "      background-color: #E2EBFA;\n",
              "      box-shadow: 0px 1px 2px rgba(60, 64, 67, 0.3), 0px 1px 3px 1px rgba(60, 64, 67, 0.15);\n",
              "      fill: #174EA6;\n",
              "    }\n",
              "\n",
              "    [theme=dark] .colab-df-convert {\n",
              "      background-color: #3B4455;\n",
              "      fill: #D2E3FC;\n",
              "    }\n",
              "\n",
              "    [theme=dark] .colab-df-convert:hover {\n",
              "      background-color: #434B5C;\n",
              "      box-shadow: 0px 1px 3px 1px rgba(0, 0, 0, 0.15);\n",
              "      filter: drop-shadow(0px 1px 2px rgba(0, 0, 0, 0.3));\n",
              "      fill: #FFFFFF;\n",
              "    }\n",
              "  </style>\n",
              "\n",
              "      <script>\n",
              "        const buttonEl =\n",
              "          document.querySelector('#df-0cc0824d-28b3-40d1-bee0-c6180599fcad button.colab-df-convert');\n",
              "        buttonEl.style.display =\n",
              "          google.colab.kernel.accessAllowed ? 'block' : 'none';\n",
              "\n",
              "        async function convertToInteractive(key) {\n",
              "          const element = document.querySelector('#df-0cc0824d-28b3-40d1-bee0-c6180599fcad');\n",
              "          const dataTable =\n",
              "            await google.colab.kernel.invokeFunction('convertToInteractive',\n",
              "                                                     [key], {});\n",
              "          if (!dataTable) return;\n",
              "\n",
              "          const docLinkHtml = 'Like what you see? Visit the ' +\n",
              "            '<a target=\"_blank\" href=https://colab.research.google.com/notebooks/data_table.ipynb>data table notebook</a>'\n",
              "            + ' to learn more about interactive tables.';\n",
              "          element.innerHTML = '';\n",
              "          dataTable['output_type'] = 'display_data';\n",
              "          await google.colab.output.renderOutput(dataTable, element);\n",
              "          const docLink = document.createElement('div');\n",
              "          docLink.innerHTML = docLinkHtml;\n",
              "          element.appendChild(docLink);\n",
              "        }\n",
              "      </script>\n",
              "    </div>\n",
              "  </div>\n",
              "  "
            ]
          },
          "metadata": {},
          "execution_count": 4
        }
      ]
    },
    {
      "cell_type": "code",
      "source": [
        "car_dataset.shape"
      ],
      "metadata": {
        "colab": {
          "base_uri": "https://localhost:8080/"
        },
        "id": "XE0qJ_2nsw_v",
        "outputId": "ba9d67a8-71f1-44f8-f57f-e8059bccc50e"
      },
      "execution_count": 5,
      "outputs": [
        {
          "output_type": "execute_result",
          "data": {
            "text/plain": [
              "(402005, 12)"
            ]
          },
          "metadata": {},
          "execution_count": 5
        }
      ]
    },
    {
      "cell_type": "code",
      "source": [
        "car_dataset.columns"
      ],
      "metadata": {
        "colab": {
          "base_uri": "https://localhost:8080/"
        },
        "id": "am8Doo3pcmcm",
        "outputId": "c79f1637-1c84-4c89-bc0b-7ea827610efb"
      },
      "execution_count": 6,
      "outputs": [
        {
          "output_type": "execute_result",
          "data": {
            "text/plain": [
              "Index(['public_reference', 'mileage', 'reg_code', 'standard_colour',\n",
              "       'standard_make', 'standard_model', 'vehicle_condition',\n",
              "       'year_of_registration', 'price', 'body_type', 'crossover_car_and_van',\n",
              "       'fuel_type'],\n",
              "      dtype='object')"
            ]
          },
          "metadata": {},
          "execution_count": 6
        }
      ]
    },
    {
      "cell_type": "code",
      "source": [
        "car_dataset[\"crossover_car_and_van\"] = car_dataset[\"crossover_car_and_van\"].astype(int)"
      ],
      "metadata": {
        "id": "GhEC4hNnnsng"
      },
      "execution_count": 7,
      "outputs": []
    },
    {
      "cell_type": "code",
      "source": [
        "car_dataset.info()"
      ],
      "metadata": {
        "colab": {
          "base_uri": "https://localhost:8080/"
        },
        "id": "JZlO9Da2c3CY",
        "outputId": "e0872ab9-a28a-4cf7-c2f9-909ebcb48cb9"
      },
      "execution_count": 8,
      "outputs": [
        {
          "output_type": "stream",
          "name": "stdout",
          "text": [
            "<class 'pandas.core.frame.DataFrame'>\n",
            "RangeIndex: 402005 entries, 0 to 402004\n",
            "Data columns (total 12 columns):\n",
            " #   Column                 Non-Null Count   Dtype  \n",
            "---  ------                 --------------   -----  \n",
            " 0   public_reference       402005 non-null  int64  \n",
            " 1   mileage                401878 non-null  float64\n",
            " 2   reg_code               370148 non-null  object \n",
            " 3   standard_colour        396627 non-null  object \n",
            " 4   standard_make          402005 non-null  object \n",
            " 5   standard_model         402005 non-null  object \n",
            " 6   vehicle_condition      402005 non-null  object \n",
            " 7   year_of_registration   368694 non-null  float64\n",
            " 8   price                  402005 non-null  int64  \n",
            " 9   body_type              401168 non-null  object \n",
            " 10  crossover_car_and_van  402005 non-null  int64  \n",
            " 11  fuel_type              401404 non-null  object \n",
            "dtypes: float64(2), int64(3), object(7)\n",
            "memory usage: 36.8+ MB\n"
          ]
        }
      ]
    },
    {
      "cell_type": "code",
      "source": [
        "car_dataset.describe(include=[object])"
      ],
      "metadata": {
        "colab": {
          "base_uri": "https://localhost:8080/",
          "height": 174
        },
        "id": "bXGW7Jo5dg4E",
        "outputId": "25306d51-a408-4580-fd71-75b37720f08a"
      },
      "execution_count": 9,
      "outputs": [
        {
          "output_type": "execute_result",
          "data": {
            "text/plain": [
              "       reg_code standard_colour standard_make standard_model  \\\n",
              "count    370148          396627        402005         402005   \n",
              "unique       72              22           110           1168   \n",
              "top          17           Black           BMW           Golf   \n",
              "freq      36738           86287         37376          11583   \n",
              "\n",
              "       vehicle_condition  body_type fuel_type  \n",
              "count             402005     401168    401404  \n",
              "unique                 2         16         9  \n",
              "top                 USED  Hatchback    Petrol  \n",
              "freq              370756     167315    216929  "
            ],
            "text/html": [
              "\n",
              "  <div id=\"df-ce22ff78-85f4-403d-adee-1153ae2a92b4\">\n",
              "    <div class=\"colab-df-container\">\n",
              "      <div>\n",
              "<style scoped>\n",
              "    .dataframe tbody tr th:only-of-type {\n",
              "        vertical-align: middle;\n",
              "    }\n",
              "\n",
              "    .dataframe tbody tr th {\n",
              "        vertical-align: top;\n",
              "    }\n",
              "\n",
              "    .dataframe thead th {\n",
              "        text-align: right;\n",
              "    }\n",
              "</style>\n",
              "<table border=\"1\" class=\"dataframe\">\n",
              "  <thead>\n",
              "    <tr style=\"text-align: right;\">\n",
              "      <th></th>\n",
              "      <th>reg_code</th>\n",
              "      <th>standard_colour</th>\n",
              "      <th>standard_make</th>\n",
              "      <th>standard_model</th>\n",
              "      <th>vehicle_condition</th>\n",
              "      <th>body_type</th>\n",
              "      <th>fuel_type</th>\n",
              "    </tr>\n",
              "  </thead>\n",
              "  <tbody>\n",
              "    <tr>\n",
              "      <th>count</th>\n",
              "      <td>370148</td>\n",
              "      <td>396627</td>\n",
              "      <td>402005</td>\n",
              "      <td>402005</td>\n",
              "      <td>402005</td>\n",
              "      <td>401168</td>\n",
              "      <td>401404</td>\n",
              "    </tr>\n",
              "    <tr>\n",
              "      <th>unique</th>\n",
              "      <td>72</td>\n",
              "      <td>22</td>\n",
              "      <td>110</td>\n",
              "      <td>1168</td>\n",
              "      <td>2</td>\n",
              "      <td>16</td>\n",
              "      <td>9</td>\n",
              "    </tr>\n",
              "    <tr>\n",
              "      <th>top</th>\n",
              "      <td>17</td>\n",
              "      <td>Black</td>\n",
              "      <td>BMW</td>\n",
              "      <td>Golf</td>\n",
              "      <td>USED</td>\n",
              "      <td>Hatchback</td>\n",
              "      <td>Petrol</td>\n",
              "    </tr>\n",
              "    <tr>\n",
              "      <th>freq</th>\n",
              "      <td>36738</td>\n",
              "      <td>86287</td>\n",
              "      <td>37376</td>\n",
              "      <td>11583</td>\n",
              "      <td>370756</td>\n",
              "      <td>167315</td>\n",
              "      <td>216929</td>\n",
              "    </tr>\n",
              "  </tbody>\n",
              "</table>\n",
              "</div>\n",
              "      <button class=\"colab-df-convert\" onclick=\"convertToInteractive('df-ce22ff78-85f4-403d-adee-1153ae2a92b4')\"\n",
              "              title=\"Convert this dataframe to an interactive table.\"\n",
              "              style=\"display:none;\">\n",
              "        \n",
              "  <svg xmlns=\"http://www.w3.org/2000/svg\" height=\"24px\"viewBox=\"0 0 24 24\"\n",
              "       width=\"24px\">\n",
              "    <path d=\"M0 0h24v24H0V0z\" fill=\"none\"/>\n",
              "    <path d=\"M18.56 5.44l.94 2.06.94-2.06 2.06-.94-2.06-.94-.94-2.06-.94 2.06-2.06.94zm-11 1L8.5 8.5l.94-2.06 2.06-.94-2.06-.94L8.5 2.5l-.94 2.06-2.06.94zm10 10l.94 2.06.94-2.06 2.06-.94-2.06-.94-.94-2.06-.94 2.06-2.06.94z\"/><path d=\"M17.41 7.96l-1.37-1.37c-.4-.4-.92-.59-1.43-.59-.52 0-1.04.2-1.43.59L10.3 9.45l-7.72 7.72c-.78.78-.78 2.05 0 2.83L4 21.41c.39.39.9.59 1.41.59.51 0 1.02-.2 1.41-.59l7.78-7.78 2.81-2.81c.8-.78.8-2.07 0-2.86zM5.41 20L4 18.59l7.72-7.72 1.47 1.35L5.41 20z\"/>\n",
              "  </svg>\n",
              "      </button>\n",
              "      \n",
              "  <style>\n",
              "    .colab-df-container {\n",
              "      display:flex;\n",
              "      flex-wrap:wrap;\n",
              "      gap: 12px;\n",
              "    }\n",
              "\n",
              "    .colab-df-convert {\n",
              "      background-color: #E8F0FE;\n",
              "      border: none;\n",
              "      border-radius: 50%;\n",
              "      cursor: pointer;\n",
              "      display: none;\n",
              "      fill: #1967D2;\n",
              "      height: 32px;\n",
              "      padding: 0 0 0 0;\n",
              "      width: 32px;\n",
              "    }\n",
              "\n",
              "    .colab-df-convert:hover {\n",
              "      background-color: #E2EBFA;\n",
              "      box-shadow: 0px 1px 2px rgba(60, 64, 67, 0.3), 0px 1px 3px 1px rgba(60, 64, 67, 0.15);\n",
              "      fill: #174EA6;\n",
              "    }\n",
              "\n",
              "    [theme=dark] .colab-df-convert {\n",
              "      background-color: #3B4455;\n",
              "      fill: #D2E3FC;\n",
              "    }\n",
              "\n",
              "    [theme=dark] .colab-df-convert:hover {\n",
              "      background-color: #434B5C;\n",
              "      box-shadow: 0px 1px 3px 1px rgba(0, 0, 0, 0.15);\n",
              "      filter: drop-shadow(0px 1px 2px rgba(0, 0, 0, 0.3));\n",
              "      fill: #FFFFFF;\n",
              "    }\n",
              "  </style>\n",
              "\n",
              "      <script>\n",
              "        const buttonEl =\n",
              "          document.querySelector('#df-ce22ff78-85f4-403d-adee-1153ae2a92b4 button.colab-df-convert');\n",
              "        buttonEl.style.display =\n",
              "          google.colab.kernel.accessAllowed ? 'block' : 'none';\n",
              "\n",
              "        async function convertToInteractive(key) {\n",
              "          const element = document.querySelector('#df-ce22ff78-85f4-403d-adee-1153ae2a92b4');\n",
              "          const dataTable =\n",
              "            await google.colab.kernel.invokeFunction('convertToInteractive',\n",
              "                                                     [key], {});\n",
              "          if (!dataTable) return;\n",
              "\n",
              "          const docLinkHtml = 'Like what you see? Visit the ' +\n",
              "            '<a target=\"_blank\" href=https://colab.research.google.com/notebooks/data_table.ipynb>data table notebook</a>'\n",
              "            + ' to learn more about interactive tables.';\n",
              "          element.innerHTML = '';\n",
              "          dataTable['output_type'] = 'display_data';\n",
              "          await google.colab.output.renderOutput(dataTable, element);\n",
              "          const docLink = document.createElement('div');\n",
              "          docLink.innerHTML = docLinkHtml;\n",
              "          element.appendChild(docLink);\n",
              "        }\n",
              "      </script>\n",
              "    </div>\n",
              "  </div>\n",
              "  "
            ]
          },
          "metadata": {},
          "execution_count": 9
        }
      ]
    },
    {
      "cell_type": "markdown",
      "source": [
        "**\"crossover_car_and_van\"** is a float value hence converted it in to integer"
      ],
      "metadata": {
        "id": "EOn_ylY2f5zG"
      }
    },
    {
      "cell_type": "code",
      "source": [
        "#car_dataset[\"crossover_car_and_van\"] = car_dataset[\"crossover_car_and_van\"].astype(int)"
      ],
      "metadata": {
        "id": "opLirV_cd_cp"
      },
      "execution_count": 10,
      "outputs": []
    },
    {
      "cell_type": "markdown",
      "source": [
        "**\"Public_reference\"** column is not having relation with any of the columns. Hence we are dropping it."
      ],
      "metadata": {
        "id": "rWr-x-vDfo5l"
      }
    },
    {
      "cell_type": "code",
      "source": [
        "car_dataset.drop(\"public_reference\",axis=1,inplace=True)"
      ],
      "metadata": {
        "id": "eaxkBiHveHk-"
      },
      "execution_count": 11,
      "outputs": []
    },
    {
      "cell_type": "code",
      "source": [
        "car_dataset.describe() "
      ],
      "metadata": {
        "colab": {
          "base_uri": "https://localhost:8080/",
          "height": 299
        },
        "id": "XI39AVIzcpt9",
        "outputId": "1038c3ff-d864-46ab-b34d-d40494d4749c"
      },
      "execution_count": 12,
      "outputs": [
        {
          "output_type": "execute_result",
          "data": {
            "text/plain": [
              "             mileage  year_of_registration         price  \\\n",
              "count  401878.000000         368694.000000  4.020050e+05   \n",
              "mean    37743.595656           2015.006206  1.734197e+04   \n",
              "std     34831.724018              7.962667  4.643746e+04   \n",
              "min         0.000000            999.000000  1.200000e+02   \n",
              "25%     10481.000000           2013.000000  7.495000e+03   \n",
              "50%     28629.500000           2016.000000  1.260000e+04   \n",
              "75%     56875.750000           2018.000000  2.000000e+04   \n",
              "max    999999.000000           2020.000000  9.999999e+06   \n",
              "\n",
              "       crossover_car_and_van  \n",
              "count          402005.000000  \n",
              "mean                0.004465  \n",
              "std                 0.066672  \n",
              "min                 0.000000  \n",
              "25%                 0.000000  \n",
              "50%                 0.000000  \n",
              "75%                 0.000000  \n",
              "max                 1.000000  "
            ],
            "text/html": [
              "\n",
              "  <div id=\"df-2cbc1109-9f67-4def-875d-1219d394e60d\">\n",
              "    <div class=\"colab-df-container\">\n",
              "      <div>\n",
              "<style scoped>\n",
              "    .dataframe tbody tr th:only-of-type {\n",
              "        vertical-align: middle;\n",
              "    }\n",
              "\n",
              "    .dataframe tbody tr th {\n",
              "        vertical-align: top;\n",
              "    }\n",
              "\n",
              "    .dataframe thead th {\n",
              "        text-align: right;\n",
              "    }\n",
              "</style>\n",
              "<table border=\"1\" class=\"dataframe\">\n",
              "  <thead>\n",
              "    <tr style=\"text-align: right;\">\n",
              "      <th></th>\n",
              "      <th>mileage</th>\n",
              "      <th>year_of_registration</th>\n",
              "      <th>price</th>\n",
              "      <th>crossover_car_and_van</th>\n",
              "    </tr>\n",
              "  </thead>\n",
              "  <tbody>\n",
              "    <tr>\n",
              "      <th>count</th>\n",
              "      <td>401878.000000</td>\n",
              "      <td>368694.000000</td>\n",
              "      <td>4.020050e+05</td>\n",
              "      <td>402005.000000</td>\n",
              "    </tr>\n",
              "    <tr>\n",
              "      <th>mean</th>\n",
              "      <td>37743.595656</td>\n",
              "      <td>2015.006206</td>\n",
              "      <td>1.734197e+04</td>\n",
              "      <td>0.004465</td>\n",
              "    </tr>\n",
              "    <tr>\n",
              "      <th>std</th>\n",
              "      <td>34831.724018</td>\n",
              "      <td>7.962667</td>\n",
              "      <td>4.643746e+04</td>\n",
              "      <td>0.066672</td>\n",
              "    </tr>\n",
              "    <tr>\n",
              "      <th>min</th>\n",
              "      <td>0.000000</td>\n",
              "      <td>999.000000</td>\n",
              "      <td>1.200000e+02</td>\n",
              "      <td>0.000000</td>\n",
              "    </tr>\n",
              "    <tr>\n",
              "      <th>25%</th>\n",
              "      <td>10481.000000</td>\n",
              "      <td>2013.000000</td>\n",
              "      <td>7.495000e+03</td>\n",
              "      <td>0.000000</td>\n",
              "    </tr>\n",
              "    <tr>\n",
              "      <th>50%</th>\n",
              "      <td>28629.500000</td>\n",
              "      <td>2016.000000</td>\n",
              "      <td>1.260000e+04</td>\n",
              "      <td>0.000000</td>\n",
              "    </tr>\n",
              "    <tr>\n",
              "      <th>75%</th>\n",
              "      <td>56875.750000</td>\n",
              "      <td>2018.000000</td>\n",
              "      <td>2.000000e+04</td>\n",
              "      <td>0.000000</td>\n",
              "    </tr>\n",
              "    <tr>\n",
              "      <th>max</th>\n",
              "      <td>999999.000000</td>\n",
              "      <td>2020.000000</td>\n",
              "      <td>9.999999e+06</td>\n",
              "      <td>1.000000</td>\n",
              "    </tr>\n",
              "  </tbody>\n",
              "</table>\n",
              "</div>\n",
              "      <button class=\"colab-df-convert\" onclick=\"convertToInteractive('df-2cbc1109-9f67-4def-875d-1219d394e60d')\"\n",
              "              title=\"Convert this dataframe to an interactive table.\"\n",
              "              style=\"display:none;\">\n",
              "        \n",
              "  <svg xmlns=\"http://www.w3.org/2000/svg\" height=\"24px\"viewBox=\"0 0 24 24\"\n",
              "       width=\"24px\">\n",
              "    <path d=\"M0 0h24v24H0V0z\" fill=\"none\"/>\n",
              "    <path d=\"M18.56 5.44l.94 2.06.94-2.06 2.06-.94-2.06-.94-.94-2.06-.94 2.06-2.06.94zm-11 1L8.5 8.5l.94-2.06 2.06-.94-2.06-.94L8.5 2.5l-.94 2.06-2.06.94zm10 10l.94 2.06.94-2.06 2.06-.94-2.06-.94-.94-2.06-.94 2.06-2.06.94z\"/><path d=\"M17.41 7.96l-1.37-1.37c-.4-.4-.92-.59-1.43-.59-.52 0-1.04.2-1.43.59L10.3 9.45l-7.72 7.72c-.78.78-.78 2.05 0 2.83L4 21.41c.39.39.9.59 1.41.59.51 0 1.02-.2 1.41-.59l7.78-7.78 2.81-2.81c.8-.78.8-2.07 0-2.86zM5.41 20L4 18.59l7.72-7.72 1.47 1.35L5.41 20z\"/>\n",
              "  </svg>\n",
              "      </button>\n",
              "      \n",
              "  <style>\n",
              "    .colab-df-container {\n",
              "      display:flex;\n",
              "      flex-wrap:wrap;\n",
              "      gap: 12px;\n",
              "    }\n",
              "\n",
              "    .colab-df-convert {\n",
              "      background-color: #E8F0FE;\n",
              "      border: none;\n",
              "      border-radius: 50%;\n",
              "      cursor: pointer;\n",
              "      display: none;\n",
              "      fill: #1967D2;\n",
              "      height: 32px;\n",
              "      padding: 0 0 0 0;\n",
              "      width: 32px;\n",
              "    }\n",
              "\n",
              "    .colab-df-convert:hover {\n",
              "      background-color: #E2EBFA;\n",
              "      box-shadow: 0px 1px 2px rgba(60, 64, 67, 0.3), 0px 1px 3px 1px rgba(60, 64, 67, 0.15);\n",
              "      fill: #174EA6;\n",
              "    }\n",
              "\n",
              "    [theme=dark] .colab-df-convert {\n",
              "      background-color: #3B4455;\n",
              "      fill: #D2E3FC;\n",
              "    }\n",
              "\n",
              "    [theme=dark] .colab-df-convert:hover {\n",
              "      background-color: #434B5C;\n",
              "      box-shadow: 0px 1px 3px 1px rgba(0, 0, 0, 0.15);\n",
              "      filter: drop-shadow(0px 1px 2px rgba(0, 0, 0, 0.3));\n",
              "      fill: #FFFFFF;\n",
              "    }\n",
              "  </style>\n",
              "\n",
              "      <script>\n",
              "        const buttonEl =\n",
              "          document.querySelector('#df-2cbc1109-9f67-4def-875d-1219d394e60d button.colab-df-convert');\n",
              "        buttonEl.style.display =\n",
              "          google.colab.kernel.accessAllowed ? 'block' : 'none';\n",
              "\n",
              "        async function convertToInteractive(key) {\n",
              "          const element = document.querySelector('#df-2cbc1109-9f67-4def-875d-1219d394e60d');\n",
              "          const dataTable =\n",
              "            await google.colab.kernel.invokeFunction('convertToInteractive',\n",
              "                                                     [key], {});\n",
              "          if (!dataTable) return;\n",
              "\n",
              "          const docLinkHtml = 'Like what you see? Visit the ' +\n",
              "            '<a target=\"_blank\" href=https://colab.research.google.com/notebooks/data_table.ipynb>data table notebook</a>'\n",
              "            + ' to learn more about interactive tables.';\n",
              "          element.innerHTML = '';\n",
              "          dataTable['output_type'] = 'display_data';\n",
              "          await google.colab.output.renderOutput(dataTable, element);\n",
              "          const docLink = document.createElement('div');\n",
              "          docLink.innerHTML = docLinkHtml;\n",
              "          element.appendChild(docLink);\n",
              "        }\n",
              "      </script>\n",
              "    </div>\n",
              "  </div>\n",
              "  "
            ]
          },
          "metadata": {},
          "execution_count": 12
        }
      ]
    },
    {
      "cell_type": "code",
      "source": [
        "car_dataset.isnull().sum()"
      ],
      "metadata": {
        "colab": {
          "base_uri": "https://localhost:8080/"
        },
        "id": "HgIPGpKmp4we",
        "outputId": "3e5b7b54-b870-4ced-86b6-305b43bf2134"
      },
      "execution_count": 13,
      "outputs": [
        {
          "output_type": "execute_result",
          "data": {
            "text/plain": [
              "mileage                    127\n",
              "reg_code                 31857\n",
              "standard_colour           5378\n",
              "standard_make                0\n",
              "standard_model               0\n",
              "vehicle_condition            0\n",
              "year_of_registration     33311\n",
              "price                        0\n",
              "body_type                  837\n",
              "crossover_car_and_van        0\n",
              "fuel_type                  601\n",
              "dtype: int64"
            ]
          },
          "metadata": {},
          "execution_count": 13
        }
      ]
    },
    {
      "cell_type": "code",
      "source": [
        "import seaborn as sns\n",
        "import matplotlib.pyplot as plt\n",
        "plt.figure(figsize=(12,9)) \n",
        "sns.heatmap(car_dataset.isna(), cmap='plasma')\n",
        "plt.title(\"Missing Values\") \n",
        "plt.show()"
      ],
      "metadata": {
        "colab": {
          "base_uri": "https://localhost:8080/",
          "height": 659
        },
        "id": "HPyjotAzeQGO",
        "outputId": "170b9275-ef19-4008-b47e-661325091a77"
      },
      "execution_count": 14,
      "outputs": [
        {
          "output_type": "display_data",
          "data": {
            "text/plain": [
              "<Figure size 864x648 with 2 Axes>"
            ],
            "image/png": "[encoded data removed]"
          },
          "metadata": {
            "needs_background": "light"
          }
        }
      ]
    },
    {
      "cell_type": "markdown",
      "source": [
        "**Outliers**"
      ],
      "metadata": {
        "id": "xZpNIkCQYi9A"
      }
    },
    {
      "cell_type": "markdown",
      "source": [
        "*Explored the numerical data types found three* **attributes are effected by outliners** "
      ],
      "metadata": {
        "id": "GDm-KlTjYX61"
      }
    },
    {
      "cell_type": "code",
      "source": [
        "figure =car_dataset.boxplot('year_of_registration')"
      ],
      "metadata": {
        "colab": {
          "base_uri": "https://localhost:8080/",
          "height": 265
        },
        "id": "G8q6F6A_X63_",
        "outputId": "366e3324-62ad-4195-e87e-4afa9270109b"
      },
      "execution_count": 15,
      "outputs": [
        {
          "output_type": "display_data",
          "data": {
            "text/plain": [
              "<Figure size 432x288 with 1 Axes>"
            ],
            "image/png": "[encoded data removed]"
          },
          "metadata": {
            "needs_background": "light"
          }
        }
      ]
    },
    {
      "cell_type": "code",
      "source": [
        "figure =car_dataset.boxplot('mileage')"
      ],
      "metadata": {
        "colab": {
          "base_uri": "https://localhost:8080/",
          "height": 276
        },
        "id": "XZlFjTEkYSGt",
        "outputId": "421ba6e5-86c9-4e57-ce56-0e3d99d3fc01"
      },
      "execution_count": 16,
      "outputs": [
        {
          "output_type": "display_data",
          "data": {
            "text/plain": [
              "<Figure size 432x288 with 1 Axes>"
            ],
            "image/png": "[encoded data removed]"
          },
          "metadata": {
            "needs_background": "light"
          }
        }
      ]
    },
    {
      "cell_type": "code",
      "source": [
        "figure =car_dataset.boxplot('price')"
      ],
      "metadata": {
        "colab": {
          "base_uri": "https://localhost:8080/",
          "height": 276
        },
        "id": "IRppUzZVYNA-",
        "outputId": "97bfced1-dae9-4b10-9d5c-0286988b3c01"
      },
      "execution_count": 17,
      "outputs": [
        {
          "output_type": "display_data",
          "data": {
            "text/plain": [
              "<Figure size 432x288 with 1 Axes>"
            ],
            "image/png": "[encoded data removed]"
          },
          "metadata": {
            "needs_background": "light"
          }
        }
      ]
    },
    {
      "cell_type": "markdown",
      "source": [
        "**There were skewed values in the dataset**"
      ],
      "metadata": {
        "id": "3iNiISTTXyXy"
      }
    },
    {
      "cell_type": "code",
      "source": [
        "car_dataset.skew()"
      ],
      "metadata": {
        "colab": {
          "base_uri": "https://localhost:8080/"
        },
        "id": "ToUY_dRpXteQ",
        "outputId": "3b567cf6-2480-41b1-c230-208e9efb2277"
      },
      "execution_count": 18,
      "outputs": [
        {
          "output_type": "stream",
          "name": "stderr",
          "text": [
            "<ipython-input-18-0629bea908e9>:1: FutureWarning: Dropping of nuisance columns in DataFrame reductions (with 'numeric_only=None') is deprecated; in a future version this will raise TypeError.  Select only valid columns before calling the reduction.\n",
            "  car_dataset.skew()\n"
          ]
        },
        {
          "output_type": "execute_result",
          "data": {
            "text/plain": [
              "mileage                    1.451132\n",
              "year_of_registration     -87.909954\n",
              "price                    154.681527\n",
              "crossover_car_and_van     14.864870\n",
              "dtype: float64"
            ]
          },
          "metadata": {},
          "execution_count": 18
        }
      ]
    },
    {
      "cell_type": "markdown",
      "source": [
        "# **Data Pre-Processing**"
      ],
      "metadata": {
        "id": "Ayjiulbab767"
      }
    },
    {
      "cell_type": "markdown",
      "source": [
        "1.  Handling Outliers and Noise\n",
        "\n",
        "2.  Dealing with Missing Values.\n",
        "\n",
        "3.  Handling Skewness.\n",
        "\n",
        "4.  Feature Engineering and Data Transformations.\n",
        "\n",
        "5.  Subsetting (e.g., Feature Selection, Data Sampling)"
      ],
      "metadata": {
        "id": "zVdsIud3iLLb"
      }
    },
    {
      "cell_type": "markdown",
      "source": [
        "**1. Handling Outliers**"
      ],
      "metadata": {
        "id": "ys8kmoqT9-7c"
      }
    },
    {
      "cell_type": "code",
      "source": [
        "def hapus_outliers(data, x):\n",
        "    Q1 = data[x].quantile(0.40)\n",
        "    Q3 = data[x].quantile(0.60)\n",
        "    IQR = Q3 - Q1\n",
        "    data = data[~((data[x] < (Q1 - 1.5 * IQR)) | (data[x] > (Q3 + 1.5 * IQR)))]\n",
        "    return data"
      ],
      "metadata": {
        "id": "dwxcqKom-ByI"
      },
      "execution_count": 19,
      "outputs": []
    },
    {
      "cell_type": "code",
      "source": [
        "car_dataset = hapus_outliers(car_dataset, 'price')\n",
        "car_dataset = hapus_outliers (car_dataset,'year_of_registration')\n",
        "car_dataset = hapus_outliers(car_dataset, 'mileage')"
      ],
      "metadata": {
        "id": "qMx7HjdE-JCY"
      },
      "execution_count": 20,
      "outputs": []
    },
    {
      "cell_type": "code",
      "source": [
        "import seaborn as sns\n",
        "sns.boxplot(x=car_dataset['price'])"
      ],
      "metadata": {
        "colab": {
          "base_uri": "https://localhost:8080/",
          "height": 0
        },
        "id": "_gesz2acZNMp",
        "outputId": "1b39f3b0-33eb-4abe-99bb-9d7088efbf66"
      },
      "execution_count": 21,
      "outputs": [
        {
          "output_type": "execute_result",
          "data": {
            "text/plain": [
              "<matplotlib.axes._subplots.AxesSubplot at 0x7f4ad453ac70>"
            ]
          },
          "metadata": {},
          "execution_count": 21
        },
        {
          "output_type": "display_data",
          "data": {
            "text/plain": [
              "<Figure size 432x288 with 1 Axes>"
            ],
            "image/png": "[encoded data removed]"
          },
          "metadata": {
            "needs_background": "light"
          }
        }
      ]
    },
    {
      "cell_type": "code",
      "source": [
        "import seaborn as sns\n",
        "sns.boxplot(x=car_dataset['year_of_registration'])"
      ],
      "metadata": {
        "colab": {
          "base_uri": "https://localhost:8080/",
          "height": 0
        },
        "id": "t5mnkbfVZQRi",
        "outputId": "fc139831-8527-4cb0-9d3f-f6fdf7d23a27"
      },
      "execution_count": 22,
      "outputs": [
        {
          "output_type": "execute_result",
          "data": {
            "text/plain": [
              "<matplotlib.axes._subplots.AxesSubplot at 0x7f4ad5558040>"
            ]
          },
          "metadata": {},
          "execution_count": 22
        },
        {
          "output_type": "display_data",
          "data": {
            "text/plain": [
              "<Figure size 432x288 with 1 Axes>"
            ],
            "image/png": "[encoded data removed]"
          },
          "metadata": {
            "needs_background": "light"
          }
        }
      ]
    },
    {
      "cell_type": "code",
      "source": [
        "import seaborn as sns\n",
        "sns.boxplot(x=car_dataset['mileage'])"
      ],
      "metadata": {
        "colab": {
          "base_uri": "https://localhost:8080/",
          "height": 0
        },
        "id": "sS-GGZy-ZT49",
        "outputId": "02e7a399-6d9c-4d8e-e82f-06b653127248"
      },
      "execution_count": 23,
      "outputs": [
        {
          "output_type": "execute_result",
          "data": {
            "text/plain": [
              "<matplotlib.axes._subplots.AxesSubplot at 0x7f4ad7f7bb50>"
            ]
          },
          "metadata": {},
          "execution_count": 23
        },
        {
          "output_type": "display_data",
          "data": {
            "text/plain": [
              "<Figure size 432x288 with 1 Axes>"
            ],
            "image/png": "[encoded data removed]"
          },
          "metadata": {
            "needs_background": "light"
          }
        }
      ]
    },
    {
      "cell_type": "markdown",
      "source": [
        "**Outliers are treated and now exploreing the rest things**"
      ],
      "metadata": {
        "id": "3MR7lbpdY_Jc"
      }
    },
    {
      "cell_type": "markdown",
      "source": [
        "**2. Dealing Missing Values**"
      ],
      "metadata": {
        "id": "8kLC_7D7mvH_"
      }
    },
    {
      "cell_type": "markdown",
      "source": [
        "After outliers are treated the count of missing values are reduced. Further will handle the missing values."
      ],
      "metadata": {
        "id": "GpvfeEpIZ5VA"
      }
    },
    {
      "cell_type": "code",
      "source": [
        "car_dataset.isnull().sum()"
      ],
      "metadata": {
        "colab": {
          "base_uri": "https://localhost:8080/"
        },
        "id": "AcVhgDlmZwIh",
        "outputId": "771be592-7c7b-476d-ba5d-944b703eafae"
      },
      "execution_count": 24,
      "outputs": [
        {
          "output_type": "execute_result",
          "data": {
            "text/plain": [
              "mileage                   32\n",
              "reg_code                 113\n",
              "standard_colour          738\n",
              "standard_make              0\n",
              "standard_model             0\n",
              "vehicle_condition          0\n",
              "year_of_registration     707\n",
              "price                      0\n",
              "body_type                212\n",
              "crossover_car_and_van      0\n",
              "fuel_type                 56\n",
              "dtype: int64"
            ]
          },
          "metadata": {},
          "execution_count": 24
        }
      ]
    },
    {
      "cell_type": "markdown",
      "source": [
        "As from the above EDA we came to know that there are missing values present in the dataset.\n",
        "\n",
        "\n",
        "Below are the columns which are having missing values.\n",
        "\n",
        "**mileage        -           32**\n",
        "\n",
        "**reg_code        -          113**\n",
        "\n",
        "**standard_colour  -         738**\n",
        "\n",
        "**year_of_registration  -    707**\n",
        "\n",
        "**body_type             -    212**\n",
        "\n",
        "**fuel_type             -      56**\n",
        "\n",
        "\n",
        "out of 6 attributes 3 are of Numerical and 3 are of categorical features."
      ],
      "metadata": {
        "id": "eFqiMG0Pm6iv"
      }
    },
    {
      "cell_type": "markdown",
      "source": [
        "The most common and best for handling missing values in categorical attributes is Replacing With **Mode** imputatition. it is the most frequently occurring value and used in the case of **categorical feature**."
      ],
      "metadata": {
        "id": "WyiSOX0Nn1-q"
      }
    },
    {
      "cell_type": "markdown",
      "source": [
        "**Handling Missing Value with \"Mode\" Imputation**"
      ],
      "metadata": {
        "id": "Xl2vh3UNzPPA"
      }
    },
    {
      "cell_type": "code",
      "source": [
        "car_dataset['body_type'] = car_dataset['body_type'].fillna(car_dataset['body_type'].mode()[0])\n",
        "car_dataset['fuel_type'] = car_dataset['fuel_type'].fillna(car_dataset['fuel_type'].mode()[0])\n",
        "car_dataset['standard_colour'] = car_dataset['standard_colour'].fillna(car_dataset['standard_colour'].mode()[0])\n",
        "car_dataset['reg_code'] = car_dataset['reg_code'].fillna(car_dataset['reg_code'].mode()[0])"
      ],
      "metadata": {
        "id": "webXFYadoeM2"
      },
      "execution_count": 25,
      "outputs": []
    },
    {
      "cell_type": "markdown",
      "source": [
        "Columns which are having numeric continuous values can be replaced with the mean, median, or mode of remaining values in the column. This method can prevent the loss of data compared to the earlier method. Replacing the above two approximations (mean, median) is a statistical approach to handle the missing values. **As \"mileage\" attribute is having contionous values, median impution method is the best for replacing the missing values.**"
      ],
      "metadata": {
        "id": "jlx3x_BZpPi2"
      }
    },
    {
      "cell_type": "markdown",
      "source": [
        "As '**Mileage**' and '**Year of registration**' are numerical attributes we are implementing **mean** and **median** imputation methods. "
      ],
      "metadata": {
        "id": "4R2PVzWbad7w"
      }
    },
    {
      "cell_type": "code",
      "source": [
        "car_dataset['mileage'] = car_dataset['mileage'].fillna(car_dataset['mileage'].mean(0))\n"
      ],
      "metadata": {
        "id": "bzaNnPyQqznJ"
      },
      "execution_count": 26,
      "outputs": []
    },
    {
      "cell_type": "code",
      "source": [
        "car_dataset['year_of_registration'] = car_dataset['year_of_registration'].fillna(car_dataset['year_of_registration'].median(0))"
      ],
      "metadata": {
        "id": "fwgRdcfQa5kr"
      },
      "execution_count": 27,
      "outputs": []
    },
    {
      "cell_type": "markdown",
      "source": [
        "**Handling Missing Value with Median Imputation**"
      ],
      "metadata": {
        "id": "_jYFcpGlzWZS"
      }
    },
    {
      "cell_type": "markdown",
      "source": [
        "**This function will fill the missing value with any random value from that column**"
      ],
      "metadata": {
        "id": "EDPh6L83ycOy"
      }
    },
    {
      "cell_type": "code",
      "source": [
        "car_dataset.isnull().sum()"
      ],
      "metadata": {
        "colab": {
          "base_uri": "https://localhost:8080/"
        },
        "id": "tFZGlEUlyEyg",
        "outputId": "e5d6f378-38e3-4896-c449-e65d60d9c416"
      },
      "execution_count": 28,
      "outputs": [
        {
          "output_type": "execute_result",
          "data": {
            "text/plain": [
              "mileage                  0\n",
              "reg_code                 0\n",
              "standard_colour          0\n",
              "standard_make            0\n",
              "standard_model           0\n",
              "vehicle_condition        0\n",
              "year_of_registration     0\n",
              "price                    0\n",
              "body_type                0\n",
              "crossover_car_and_van    0\n",
              "fuel_type                0\n",
              "dtype: int64"
            ]
          },
          "metadata": {},
          "execution_count": 28
        }
      ]
    },
    {
      "cell_type": "markdown",
      "source": [
        "**As of now there were no missing values present in the system.**"
      ],
      "metadata": {
        "id": "C3c7yaCcqA6L"
      }
    },
    {
      "cell_type": "code",
      "source": [
        "car_dataset.columns"
      ],
      "metadata": {
        "colab": {
          "base_uri": "https://localhost:8080/"
        },
        "id": "gcDGLGRDPUw8",
        "outputId": "765c6bf8-4774-4fa5-b622-2f1d566c9ca5"
      },
      "execution_count": 29,
      "outputs": [
        {
          "output_type": "execute_result",
          "data": {
            "text/plain": [
              "Index(['mileage', 'reg_code', 'standard_colour', 'standard_make',\n",
              "       'standard_model', 'vehicle_condition', 'year_of_registration', 'price',\n",
              "       'body_type', 'crossover_car_and_van', 'fuel_type'],\n",
              "      dtype='object')"
            ]
          },
          "metadata": {},
          "execution_count": 29
        }
      ]
    },
    {
      "cell_type": "markdown",
      "source": [
        "**Skewed Data**"
      ],
      "metadata": {
        "id": "j8bdaiJqbAq6"
      }
    },
    {
      "cell_type": "code",
      "source": [
        "car_dataset.skew(axis = 0)"
      ],
      "metadata": {
        "colab": {
          "base_uri": "https://localhost:8080/"
        },
        "id": "yMtvg8xMRijB",
        "outputId": "66f1ca6a-3be5-4610-d94a-6eb050584286"
      },
      "execution_count": 30,
      "outputs": [
        {
          "output_type": "stream",
          "name": "stderr",
          "text": [
            "<ipython-input-30-30ecc9cf7310>:1: FutureWarning: Dropping of nuisance columns in DataFrame reductions (with 'numeric_only=None') is deprecated; in a future version this will raise TypeError.  Select only valid columns before calling the reduction.\n",
            "  car_dataset.skew(axis = 0)\n"
          ]
        },
        {
          "output_type": "execute_result",
          "data": {
            "text/plain": [
              "mileage                   0.206666\n",
              "year_of_registration     -0.373437\n",
              "price                     0.262449\n",
              "crossover_car_and_van    26.296877\n",
              "dtype: float64"
            ]
          },
          "metadata": {},
          "execution_count": 30
        }
      ]
    },
    {
      "cell_type": "markdown",
      "source": [
        "**No action is required in terms of Skewed Data**"
      ],
      "metadata": {
        "id": "rXbsAKDPbMld"
      }
    },
    {
      "cell_type": "code",
      "source": [
        "corr = car_dataset.corr()\n",
        "sns.set_context(\"notebook\", font_scale=1.0, rc={\"lines.linewidth\": 2.5})\n",
        "plt.figure(figsize=(13,7))\n",
        "a = sns.heatmap(corr, annot=True, fmt='.2f')\n",
        "rotx = a.set_xticklabels(a.get_xticklabels(), rotation=90)\n",
        "roty = a.set_yticklabels(a.get_yticklabels(), rotation=30)"
      ],
      "metadata": {
        "colab": {
          "base_uri": "https://localhost:8080/",
          "height": 0
        },
        "id": "IsV2Ddjk4fXG",
        "outputId": "0ab3bda1-160c-48ce-99b7-4a11fba7e84e"
      },
      "execution_count": 31,
      "outputs": [
        {
          "output_type": "display_data",
          "data": {
            "text/plain": [
              "<Figure size 936x504 with 2 Axes>"
            ],
            "image/png": "[encoded data removed]"
          },
          "metadata": {
            "needs_background": "light"
          }
        }
      ]
    },
    {
      "cell_type": "markdown",
      "source": [
        "# **Association and Group Differences Analysis**"
      ],
      "metadata": {
        "id": "wN-ky5MscdNQ"
      }
    },
    {
      "cell_type": "markdown",
      "source": [
        "**Its not easy to understand the relationship between variables using the pairplot so we can check with the help of scatterplot.**"
      ],
      "metadata": {
        "id": "D1fJ5d6JHwLl"
      }
    },
    {
      "cell_type": "markdown",
      "source": [
        "**Univariate Analysis**"
      ],
      "metadata": {
        "id": "1liZgAdIJND_"
      }
    },
    {
      "cell_type": "code",
      "source": [
        "sns.distplot(car_dataset['price'])"
      ],
      "metadata": {
        "colab": {
          "base_uri": "https://localhost:8080/",
          "height": 357
        },
        "id": "Oww9veIvI9wg",
        "outputId": "3e6bd412-a586-4f12-cf8d-c56716b436a7"
      },
      "execution_count": 32,
      "outputs": [
        {
          "output_type": "stream",
          "name": "stderr",
          "text": [
            "/usr/local/lib/python3.8/dist-packages/seaborn/distributions.py:2619: FutureWarning: `distplot` is a deprecated function and will be removed in a future version. Please adapt your code to use either `displot` (a figure-level function with similar flexibility) or `histplot` (an axes-level function for histograms).\n",
            "  warnings.warn(msg, FutureWarning)\n"
          ]
        },
        {
          "output_type": "execute_result",
          "data": {
            "text/plain": [
              "<matplotlib.axes._subplots.AxesSubplot at 0x7f4ad4259d00>"
            ]
          },
          "metadata": {},
          "execution_count": 32
        },
        {
          "output_type": "display_data",
          "data": {
            "text/plain": [
              "<Figure size 432x288 with 1 Axes>"
            ],
            "image/png": "[encoded data removed]"
          },
          "metadata": {
            "needs_background": "light"
          }
        }
      ]
    },
    {
      "cell_type": "markdown",
      "source": [
        "**Fuel_type (vs) Price**"
      ],
      "metadata": {
        "id": "LK83pMfqbsMf"
      }
    },
    {
      "cell_type": "code",
      "source": [
        "from matplotlib.pyplot import xticks\n",
        "df_fuel_avg_price = car_dataset[['fuel_type','price']].groupby(\"fuel_type\", as_index = False).mean().rename(columns={'price':'fuel_avg_price'})\n",
        "plt1 = df_fuel_avg_price.plot(x = 'fuel_type', kind='bar',legend = False, sort_columns = True)\n",
        "plt1.set_xlabel(\"Fuel Type\")\n",
        "plt1.set_ylabel(\"Price\")\n",
        "xticks(rotation = 70)\n",
        "plt.show()"
      ],
      "metadata": {
        "colab": {
          "base_uri": "https://localhost:8080/",
          "height": 387
        },
        "id": "tSvTXD61Jsnk",
        "outputId": "8e648069-12af-40e6-994a-4e77b9ef8e80"
      },
      "execution_count": 33,
      "outputs": [
        {
          "output_type": "display_data",
          "data": {
            "text/plain": [
              "<Figure size 432x288 with 1 Axes>"
            ],
            "image/png": "[encoded data removed]"
          },
          "metadata": {
            "needs_background": "light"
          }
        }
      ]
    },
    {
      "cell_type": "code",
      "source": [
        "fig, ax = plt.subplots(figsize = (40,20))\n",
        "plt1 = sns.countplot(car_dataset['standard_make'], order=pd.value_counts(car_dataset['standard_make']).index,)\n",
        "plt1.set(xlabel = 'standard_make', ylabel= 'Count of Cars')\n",
        "xticks(rotation = 310)\n",
        "plt.show()\n",
        "plt.tight_layout()"
      ],
      "metadata": {
        "colab": {
          "base_uri": "https://localhost:8080/",
          "height": 973
        },
        "id": "7x0mBCRdK81V",
        "outputId": "22b10a1a-1f1c-4c34-ac3e-3b8693886b60"
      },
      "execution_count": 34,
      "outputs": [
        {
          "output_type": "stream",
          "name": "stderr",
          "text": [
            "/usr/local/lib/python3.8/dist-packages/seaborn/_decorators.py:36: FutureWarning: Pass the following variable as a keyword arg: x. From version 0.12, the only valid positional argument will be `data`, and passing other arguments without an explicit keyword will result in an error or misinterpretation.\n",
            "  warnings.warn(\n"
          ]
        },
        {
          "output_type": "display_data",
          "data": {
            "text/plain": [
              "<Figure size 2880x1440 with 1 Axes>"
            ],
            "image/png": "[encoded data removed]"
          },
          "metadata": {
            "needs_background": "light"
          }
        },
        {
          "output_type": "display_data",
          "data": {
            "text/plain": [
              "<Figure size 432x288 with 0 Axes>"
            ]
          },
          "metadata": {}
        }
      ]
    },
    {
      "cell_type": "code",
      "source": [
        "car_dataset.head()"
      ],
      "metadata": {
        "colab": {
          "base_uri": "https://localhost:8080/",
          "height": 205
        },
        "id": "M0J4fM0tLZpC",
        "outputId": "d5fc1d04-3fd7-46b2-fc36-86d3643f1103"
      },
      "execution_count": 35,
      "outputs": [
        {
          "output_type": "execute_result",
          "data": {
            "text/plain": [
              "    mileage reg_code standard_colour standard_make        standard_model  \\\n",
              "3   45000.0       16           Brown      Vauxhall                 Mokka   \n",
              "6   24075.0       17             Red      Vauxhall                  Viva   \n",
              "11  24487.0       17           Black       Peugeot                   208   \n",
              "14  31534.0       17            Grey          MINI                 Hatch   \n",
              "15  38603.0       16            Blue           BMW  2 Series Gran Tourer   \n",
              "\n",
              "   vehicle_condition  year_of_registration  price  body_type  \\\n",
              "3               USED                2016.0   7995  Hatchback   \n",
              "6               USED                2017.0   5861  Hatchback   \n",
              "11              USED                2017.0   8795  Hatchback   \n",
              "14              USED                2017.0  19000  Hatchback   \n",
              "15              USED                2016.0  16000        MPV   \n",
              "\n",
              "    crossover_car_and_van fuel_type  \n",
              "3                       0    Diesel  \n",
              "6                       0    Petrol  \n",
              "11                      0    Petrol  \n",
              "14                      0    Petrol  \n",
              "15                      0    Diesel  "
            ],
            "text/html": [
              "\n",
              "  <div id=\"df-8e4245d5-ffb0-48a9-887e-8938237f7012\">\n",
              "    <div class=\"colab-df-container\">\n",
              "      <div>\n",
              "<style scoped>\n",
              "    .dataframe tbody tr th:only-of-type {\n",
              "        vertical-align: middle;\n",
              "    }\n",
              "\n",
              "    .dataframe tbody tr th {\n",
              "        vertical-align: top;\n",
              "    }\n",
              "\n",
              "    .dataframe thead th {\n",
              "        text-align: right;\n",
              "    }\n",
              "</style>\n",
              "<table border=\"1\" class=\"dataframe\">\n",
              "  <thead>\n",
              "    <tr style=\"text-align: right;\">\n",
              "      <th></th>\n",
              "      <th>mileage</th>\n",
              "      <th>reg_code</th>\n",
              "      <th>standard_colour</th>\n",
              "      <th>standard_make</th>\n",
              "      <th>standard_model</th>\n",
              "      <th>vehicle_condition</th>\n",
              "      <th>year_of_registration</th>\n",
              "      <th>price</th>\n",
              "      <th>body_type</th>\n",
              "      <th>crossover_car_and_van</th>\n",
              "      <th>fuel_type</th>\n",
              "    </tr>\n",
              "  </thead>\n",
              "  <tbody>\n",
              "    <tr>\n",
              "      <th>3</th>\n",
              "      <td>45000.0</td>\n",
              "      <td>16</td>\n",
              "      <td>Brown</td>\n",
              "      <td>Vauxhall</td>\n",
              "      <td>Mokka</td>\n",
              "      <td>USED</td>\n",
              "      <td>2016.0</td>\n",
              "      <td>7995</td>\n",
              "      <td>Hatchback</td>\n",
              "      <td>0</td>\n",
              "      <td>Diesel</td>\n",
              "    </tr>\n",
              "    <tr>\n",
              "      <th>6</th>\n",
              "      <td>24075.0</td>\n",
              "      <td>17</td>\n",
              "      <td>Red</td>\n",
              "      <td>Vauxhall</td>\n",
              "      <td>Viva</td>\n",
              "      <td>USED</td>\n",
              "      <td>2017.0</td>\n",
              "      <td>5861</td>\n",
              "      <td>Hatchback</td>\n",
              "      <td>0</td>\n",
              "      <td>Petrol</td>\n",
              "    </tr>\n",
              "    <tr>\n",
              "      <th>11</th>\n",
              "      <td>24487.0</td>\n",
              "      <td>17</td>\n",
              "      <td>Black</td>\n",
              "      <td>Peugeot</td>\n",
              "      <td>208</td>\n",
              "      <td>USED</td>\n",
              "      <td>2017.0</td>\n",
              "      <td>8795</td>\n",
              "      <td>Hatchback</td>\n",
              "      <td>0</td>\n",
              "      <td>Petrol</td>\n",
              "    </tr>\n",
              "    <tr>\n",
              "      <th>14</th>\n",
              "      <td>31534.0</td>\n",
              "      <td>17</td>\n",
              "      <td>Grey</td>\n",
              "      <td>MINI</td>\n",
              "      <td>Hatch</td>\n",
              "      <td>USED</td>\n",
              "      <td>2017.0</td>\n",
              "      <td>19000</td>\n",
              "      <td>Hatchback</td>\n",
              "      <td>0</td>\n",
              "      <td>Petrol</td>\n",
              "    </tr>\n",
              "    <tr>\n",
              "      <th>15</th>\n",
              "      <td>38603.0</td>\n",
              "      <td>16</td>\n",
              "      <td>Blue</td>\n",
              "      <td>BMW</td>\n",
              "      <td>2 Series Gran Tourer</td>\n",
              "      <td>USED</td>\n",
              "      <td>2016.0</td>\n",
              "      <td>16000</td>\n",
              "      <td>MPV</td>\n",
              "      <td>0</td>\n",
              "      <td>Diesel</td>\n",
              "    </tr>\n",
              "  </tbody>\n",
              "</table>\n",
              "</div>\n",
              "      <button class=\"colab-df-convert\" onclick=\"convertToInteractive('df-8e4245d5-ffb0-48a9-887e-8938237f7012')\"\n",
              "              title=\"Convert this dataframe to an interactive table.\"\n",
              "              style=\"display:none;\">\n",
              "        \n",
              "  <svg xmlns=\"http://www.w3.org/2000/svg\" height=\"24px\"viewBox=\"0 0 24 24\"\n",
              "       width=\"24px\">\n",
              "    <path d=\"M0 0h24v24H0V0z\" fill=\"none\"/>\n",
              "    <path d=\"M18.56 5.44l.94 2.06.94-2.06 2.06-.94-2.06-.94-.94-2.06-.94 2.06-2.06.94zm-11 1L8.5 8.5l.94-2.06 2.06-.94-2.06-.94L8.5 2.5l-.94 2.06-2.06.94zm10 10l.94 2.06.94-2.06 2.06-.94-2.06-.94-.94-2.06-.94 2.06-2.06.94z\"/><path d=\"M17.41 7.96l-1.37-1.37c-.4-.4-.92-.59-1.43-.59-.52 0-1.04.2-1.43.59L10.3 9.45l-7.72 7.72c-.78.78-.78 2.05 0 2.83L4 21.41c.39.39.9.59 1.41.59.51 0 1.02-.2 1.41-.59l7.78-7.78 2.81-2.81c.8-.78.8-2.07 0-2.86zM5.41 20L4 18.59l7.72-7.72 1.47 1.35L5.41 20z\"/>\n",
              "  </svg>\n",
              "      </button>\n",
              "      \n",
              "  <style>\n",
              "    .colab-df-container {\n",
              "      display:flex;\n",
              "      flex-wrap:wrap;\n",
              "      gap: 12px;\n",
              "    }\n",
              "\n",
              "    .colab-df-convert {\n",
              "      background-color: #E8F0FE;\n",
              "      border: none;\n",
              "      border-radius: 50%;\n",
              "      cursor: pointer;\n",
              "      display: none;\n",
              "      fill: #1967D2;\n",
              "      height: 32px;\n",
              "      padding: 0 0 0 0;\n",
              "      width: 32px;\n",
              "    }\n",
              "\n",
              "    .colab-df-convert:hover {\n",
              "      background-color: #E2EBFA;\n",
              "      box-shadow: 0px 1px 2px rgba(60, 64, 67, 0.3), 0px 1px 3px 1px rgba(60, 64, 67, 0.15);\n",
              "      fill: #174EA6;\n",
              "    }\n",
              "\n",
              "    [theme=dark] .colab-df-convert {\n",
              "      background-color: #3B4455;\n",
              "      fill: #D2E3FC;\n",
              "    }\n",
              "\n",
              "    [theme=dark] .colab-df-convert:hover {\n",
              "      background-color: #434B5C;\n",
              "      box-shadow: 0px 1px 3px 1px rgba(0, 0, 0, 0.15);\n",
              "      filter: drop-shadow(0px 1px 2px rgba(0, 0, 0, 0.3));\n",
              "      fill: #FFFFFF;\n",
              "    }\n",
              "  </style>\n",
              "\n",
              "      <script>\n",
              "        const buttonEl =\n",
              "          document.querySelector('#df-8e4245d5-ffb0-48a9-887e-8938237f7012 button.colab-df-convert');\n",
              "        buttonEl.style.display =\n",
              "          google.colab.kernel.accessAllowed ? 'block' : 'none';\n",
              "\n",
              "        async function convertToInteractive(key) {\n",
              "          const element = document.querySelector('#df-8e4245d5-ffb0-48a9-887e-8938237f7012');\n",
              "          const dataTable =\n",
              "            await google.colab.kernel.invokeFunction('convertToInteractive',\n",
              "                                                     [key], {});\n",
              "          if (!dataTable) return;\n",
              "\n",
              "          const docLinkHtml = 'Like what you see? Visit the ' +\n",
              "            '<a target=\"_blank\" href=https://colab.research.google.com/notebooks/data_table.ipynb>data table notebook</a>'\n",
              "            + ' to learn more about interactive tables.';\n",
              "          element.innerHTML = '';\n",
              "          dataTable['output_type'] = 'display_data';\n",
              "          await google.colab.output.renderOutput(dataTable, element);\n",
              "          const docLink = document.createElement('div');\n",
              "          docLink.innerHTML = docLinkHtml;\n",
              "          element.appendChild(docLink);\n",
              "        }\n",
              "      </script>\n",
              "    </div>\n",
              "  </div>\n",
              "  "
            ]
          },
          "metadata": {},
          "execution_count": 35
        }
      ]
    },
    {
      "cell_type": "code",
      "source": [
        "fig, ax = plt.subplots(figsize = (8,8))\n",
        "plt1 = sns.countplot(car_dataset['body_type'], order=pd.value_counts(car_dataset['body_type']).index,)\n",
        "plt1.set(xlabel = 'Fuel Type', ylabel= 'Count of types')\n",
        "xticks(rotation = 310)\n",
        "plt.show()\n",
        "plt.tight_layout()"
      ],
      "metadata": {
        "colab": {
          "base_uri": "https://localhost:8080/",
          "height": 621
        },
        "id": "tAnOC6accOVd",
        "outputId": "1d012bc2-5bec-467a-d579-911a255aac0a"
      },
      "execution_count": 36,
      "outputs": [
        {
          "output_type": "stream",
          "name": "stderr",
          "text": [
            "/usr/local/lib/python3.8/dist-packages/seaborn/_decorators.py:36: FutureWarning: Pass the following variable as a keyword arg: x. From version 0.12, the only valid positional argument will be `data`, and passing other arguments without an explicit keyword will result in an error or misinterpretation.\n",
            "  warnings.warn(\n"
          ]
        },
        {
          "output_type": "display_data",
          "data": {
            "text/plain": [
              "<Figure size 576x576 with 1 Axes>"
            ],
            "image/png": "[encoded data removed]"
          },
          "metadata": {
            "needs_background": "light"
          }
        },
        {
          "output_type": "display_data",
          "data": {
            "text/plain": [
              "<Figure size 432x288 with 0 Axes>"
            ]
          },
          "metadata": {}
        }
      ]
    },
    {
      "cell_type": "code",
      "source": [
        "fig, ax = plt.subplots(figsize = (8,8))\n",
        "plt1 = sns.countplot(car_dataset['standard_make'], order=pd.value_counts(car_dataset['standard_make']).index,)\n",
        "plt1.set(xlabel = 'Fuel Type', ylabel= 'Count of types')\n",
        "xticks(rotation = 310)\n",
        "plt.show()\n",
        "plt.tight_layout()"
      ],
      "metadata": {
        "colab": {
          "base_uri": "https://localhost:8080/",
          "height": 647
        },
        "id": "lK7ZTRaUcR-K",
        "outputId": "d8c9b00c-7c87-403f-f880-2825cff2b8a7"
      },
      "execution_count": 37,
      "outputs": [
        {
          "output_type": "stream",
          "name": "stderr",
          "text": [
            "/usr/local/lib/python3.8/dist-packages/seaborn/_decorators.py:36: FutureWarning: Pass the following variable as a keyword arg: x. From version 0.12, the only valid positional argument will be `data`, and passing other arguments without an explicit keyword will result in an error or misinterpretation.\n",
            "  warnings.warn(\n"
          ]
        },
        {
          "output_type": "display_data",
          "data": {
            "text/plain": [
              "<Figure size 576x576 with 1 Axes>"
            ],
            "image/png": "[encoded data removed]"
          },
          "metadata": {
            "needs_background": "light"
          }
        },
        {
          "output_type": "display_data",
          "data": {
            "text/plain": [
              "<Figure size 432x288 with 0 Axes>"
            ]
          },
          "metadata": {}
        }
      ]
    },
    {
      "cell_type": "code",
      "source": [
        "fig, ax = plt.subplots(figsize = (8,8))\n",
        "plt1 = sns.countplot(car_dataset['fuel_type'], order=pd.value_counts(car_dataset['fuel_type']).index,)\n",
        "plt1.set(xlabel = 'Fuel Type', ylabel= 'Count of types')\n",
        "xticks(rotation = 310)\n",
        "plt.show()\n",
        "plt.tight_layout()"
      ],
      "metadata": {
        "colab": {
          "base_uri": "https://localhost:8080/",
          "height": 658
        },
        "id": "9pd98jb2LY60",
        "outputId": "86768de8-2898-4118-e97c-60fba7177d82"
      },
      "execution_count": 38,
      "outputs": [
        {
          "output_type": "stream",
          "name": "stderr",
          "text": [
            "/usr/local/lib/python3.8/dist-packages/seaborn/_decorators.py:36: FutureWarning: Pass the following variable as a keyword arg: x. From version 0.12, the only valid positional argument will be `data`, and passing other arguments without an explicit keyword will result in an error or misinterpretation.\n",
            "  warnings.warn(\n"
          ]
        },
        {
          "output_type": "display_data",
          "data": {
            "text/plain": [
              "<Figure size 576x576 with 1 Axes>"
            ],
            "image/png": "[encoded data removed]"
          },
          "metadata": {
            "needs_background": "light"
          }
        },
        {
          "output_type": "display_data",
          "data": {
            "text/plain": [
              "<Figure size 432x288 with 0 Axes>"
            ]
          },
          "metadata": {}
        }
      ]
    },
    {
      "cell_type": "code",
      "source": [
        "car_dataset.columns"
      ],
      "metadata": {
        "colab": {
          "base_uri": "https://localhost:8080/"
        },
        "id": "UAoxNayVLxEE",
        "outputId": "afe17e08-7512-4c3a-ec91-2e035354f690"
      },
      "execution_count": 39,
      "outputs": [
        {
          "output_type": "execute_result",
          "data": {
            "text/plain": [
              "Index(['mileage', 'reg_code', 'standard_colour', 'standard_make',\n",
              "       'standard_model', 'vehicle_condition', 'year_of_registration', 'price',\n",
              "       'body_type', 'crossover_car_and_van', 'fuel_type'],\n",
              "      dtype='object')"
            ]
          },
          "metadata": {},
          "execution_count": 39
        }
      ]
    },
    {
      "cell_type": "code",
      "source": [
        "fig, ax = plt.subplots(figsize = (11,11))\n",
        "plt1 = sns.countplot(car_dataset['body_type'], order=pd.value_counts(car_dataset['body_type']).index,)\n",
        "plt1.set(xlabel = 'Body Type', ylabel= 'Count')\n",
        "xticks(rotation = 310)\n",
        "plt.show()\n",
        "plt.tight_layout()"
      ],
      "metadata": {
        "colab": {
          "base_uri": "https://localhost:8080/",
          "height": 784
        },
        "id": "Mtcf7uXiL12N",
        "outputId": "ae7e08f2-ef1b-4ac2-fdb8-91192cf983a3"
      },
      "execution_count": 40,
      "outputs": [
        {
          "output_type": "stream",
          "name": "stderr",
          "text": [
            "/usr/local/lib/python3.8/dist-packages/seaborn/_decorators.py:36: FutureWarning: Pass the following variable as a keyword arg: x. From version 0.12, the only valid positional argument will be `data`, and passing other arguments without an explicit keyword will result in an error or misinterpretation.\n",
            "  warnings.warn(\n"
          ]
        },
        {
          "output_type": "display_data",
          "data": {
            "text/plain": [
              "<Figure size 792x792 with 1 Axes>"
            ],
            "image/png": "[encoded data removed]"
          },
          "metadata": {
            "needs_background": "light"
          }
        },
        {
          "output_type": "display_data",
          "data": {
            "text/plain": [
              "<Figure size 432x288 with 0 Axes>"
            ]
          },
          "metadata": {}
        }
      ]
    },
    {
      "cell_type": "code",
      "source": [
        "car_dataset[\"crossover_car_and_van\"] = car_dataset[\"crossover_car_and_van\"].astype(str)"
      ],
      "metadata": {
        "id": "ECR7DtbSiiPn"
      },
      "execution_count": 41,
      "outputs": []
    },
    {
      "cell_type": "code",
      "source": [
        "car_dataset[\"mileage\"] = car_dataset[\"mileage\"].astype(int)\n",
        "car_dataset[\"year_of_registration\"] = car_dataset[\"year_of_registration\"].astype(int)"
      ],
      "metadata": {
        "id": "9R3DdG-2ilS0"
      },
      "execution_count": 42,
      "outputs": []
    },
    {
      "cell_type": "code",
      "source": [
        "car_dataset.dtypes"
      ],
      "metadata": {
        "colab": {
          "base_uri": "https://localhost:8080/"
        },
        "id": "GVkV1UHdZKxo",
        "outputId": "d5592721-2787-44f3-e6b1-4fde799ab695"
      },
      "execution_count": 43,
      "outputs": [
        {
          "output_type": "execute_result",
          "data": {
            "text/plain": [
              "mileage                   int64\n",
              "reg_code                 object\n",
              "standard_colour          object\n",
              "standard_make            object\n",
              "standard_model           object\n",
              "vehicle_condition        object\n",
              "year_of_registration      int64\n",
              "price                     int64\n",
              "body_type                object\n",
              "crossover_car_and_van    object\n",
              "fuel_type                object\n",
              "dtype: object"
            ]
          },
          "metadata": {},
          "execution_count": 43
        }
      ]
    },
    {
      "cell_type": "markdown",
      "source": [
        "**On the clean data using Klib python library have created a group categorical visuals**"
      ],
      "metadata": {
        "id": "ZvdJBwCctG5q"
      }
    },
    {
      "cell_type": "code",
      "source": [
        "df = pd.DataFrame(car_dataset)"
      ],
      "metadata": {
        "id": "m0NZRR7aiygj"
      },
      "execution_count": 44,
      "outputs": []
    },
    {
      "cell_type": "code",
      "source": [
        "pip install klib"
      ],
      "metadata": {
        "colab": {
          "base_uri": "https://localhost:8080/"
        },
        "id": "wDGorQY_jEX1",
        "outputId": "e4b11a31-46ff-4890-a7f0-56da739c896e"
      },
      "execution_count": 45,
      "outputs": [
        {
          "output_type": "stream",
          "name": "stdout",
          "text": [
            "Looking in indexes: https://pypi.org/simple, https://us-python.pkg.dev/colab-wheels/public/simple/\n",
            "Requirement already satisfied: klib in /usr/local/lib/python3.8/dist-packages (1.0.7)\n",
            "Requirement already satisfied: numpy<2.0.0,>=1.16.3 in /usr/local/lib/python3.8/dist-packages (from klib) (1.21.6)\n",
            "Requirement already satisfied: pandas<2.0.0,>=1.2.0 in /usr/local/lib/python3.8/dist-packages (from klib) (1.3.5)\n",
            "Requirement already satisfied: Jinja2<4.0.0,>=3.0.3 in /usr/local/lib/python3.8/dist-packages (from klib) (3.1.2)\n",
            "Requirement already satisfied: matplotlib<4.0.0,>=3.0.3 in /usr/local/lib/python3.8/dist-packages (from klib) (3.2.2)\n",
            "Requirement already satisfied: scipy<2.0.0,>=1.1.0 in /usr/local/lib/python3.8/dist-packages (from klib) (1.7.3)\n",
            "Requirement already satisfied: seaborn<0.13.0,>=0.11.2 in /usr/local/lib/python3.8/dist-packages (from klib) (0.11.2)\n",
            "Requirement already satisfied: MarkupSafe>=2.0 in /usr/local/lib/python3.8/dist-packages (from Jinja2<4.0.0,>=3.0.3->klib) (2.0.1)\n",
            "Requirement already satisfied: cycler>=0.10 in /usr/local/lib/python3.8/dist-packages (from matplotlib<4.0.0,>=3.0.3->klib) (0.11.0)\n",
            "Requirement already satisfied: python-dateutil>=2.1 in /usr/local/lib/python3.8/dist-packages (from matplotlib<4.0.0,>=3.0.3->klib) (2.8.2)\n",
            "Requirement already satisfied: kiwisolver>=1.0.1 in /usr/local/lib/python3.8/dist-packages (from matplotlib<4.0.0,>=3.0.3->klib) (1.4.4)\n",
            "Requirement already satisfied: pyparsing!=2.0.4,!=2.1.2,!=2.1.6,>=2.0.1 in /usr/local/lib/python3.8/dist-packages (from matplotlib<4.0.0,>=3.0.3->klib) (3.0.9)\n",
            "Requirement already satisfied: pytz>=2017.3 in /usr/local/lib/python3.8/dist-packages (from pandas<2.0.0,>=1.2.0->klib) (2022.6)\n",
            "Requirement already satisfied: six>=1.5 in /usr/local/lib/python3.8/dist-packages (from python-dateutil>=2.1->matplotlib<4.0.0,>=3.0.3->klib) (1.15.0)\n"
          ]
        }
      ]
    },
    {
      "cell_type": "code",
      "source": [
        "import klib\n",
        "klib.cat_plot(df)"
      ],
      "metadata": {
        "colab": {
          "base_uri": "https://localhost:8080/",
          "height": 1000
        },
        "id": "svpnBELTi7F4",
        "outputId": "0339e956-51e2-4106-ae73-95eb36ed6e5b"
      },
      "execution_count": 46,
      "outputs": [
        {
          "output_type": "execute_result",
          "data": {
            "text/plain": [
              "GridSpec(6, 8)"
            ]
          },
          "metadata": {},
          "execution_count": 46
        },
        {
          "output_type": "display_data",
          "data": {
            "text/plain": [
              "<Figure size 1296x1296 with 17 Axes>"
            ],
            "image/png": "[encoded data removed]"
          },
          "metadata": {
            "needs_background": "light"
          }
        }
      ]
    },
    {
      "cell_type": "code",
      "source": [
        "klib.dist_plot(df)"
      ],
      "metadata": {
        "colab": {
          "base_uri": "https://localhost:8080/",
          "height": 663
        },
        "id": "HGBmcSh3jiCm",
        "outputId": "89d04099-6a49-4a0c-f481-4a1e09ffdc81"
      },
      "execution_count": 47,
      "outputs": [
        {
          "output_type": "stream",
          "name": "stdout",
          "text": [
            "Large dataset detected, using 10000 random samples for the plots. Summary statistics are still based on the entire dataset.\n"
          ]
        },
        {
          "output_type": "execute_result",
          "data": {
            "text/plain": [
              "<matplotlib.axes._subplots.AxesSubplot at 0x7f4ace91d460>"
            ]
          },
          "metadata": {},
          "execution_count": 47
        },
        {
          "output_type": "display_data",
          "data": {
            "text/plain": [
              "<Figure size 1080x216 with 1 Axes>"
            ],
            "image/png": "[encoded data removed]"
          },
          "metadata": {
            "needs_background": "light"
          }
        },
        {
          "output_type": "display_data",
          "data": {
            "text/plain": [
              "<Figure size 1080x216 with 1 Axes>"
            ],
            "image/png": "[encoded data removed]"
          },
          "metadata": {
            "needs_background": "light"
          }
        },
        {
          "output_type": "display_data",
          "data": {
            "text/plain": [
              "<Figure size 1080x216 with 1 Axes>"
            ],
            "image/png": "[encoded data removed]"
          },
          "metadata": {
            "needs_background": "light"
          }
        }
      ]
    },
    {
      "cell_type": "markdown",
      "source": [
        "# **Model Implementation**"
      ],
      "metadata": {
        "id": "qouVZqCy41ce"
      }
    },
    {
      "cell_type": "code",
      "source": [
        "X=car_dataset.drop(columns='price')\n",
        "y=car_dataset['price']"
      ],
      "metadata": {
        "id": "zWocH5fam3s9"
      },
      "execution_count": 48,
      "outputs": []
    },
    {
      "cell_type": "code",
      "source": [
        "X"
      ],
      "metadata": {
        "colab": {
          "base_uri": "https://localhost:8080/",
          "height": 423
        },
        "id": "0gW4s0BC5ADl",
        "outputId": "35e4030b-c676-4853-899f-c3834ff2b37d"
      },
      "execution_count": 49,
      "outputs": [
        {
          "output_type": "execute_result",
          "data": {
            "text/plain": [
              "        mileage reg_code standard_colour standard_make        standard_model  \\\n",
              "3         45000       16           Brown      Vauxhall                 Mokka   \n",
              "6         24075       17             Red      Vauxhall                  Viva   \n",
              "11        24487       17           Black       Peugeot                   208   \n",
              "14        31534       17            Grey          MINI                 Hatch   \n",
              "15        38603       16            Blue           BMW  2 Series Gran Tourer   \n",
              "...         ...      ...             ...           ...                   ...   \n",
              "401981    30444       17           Black           BMW   4 Series Gran Coupe   \n",
              "401985    42377       17           White         Mazda                  CX-5   \n",
              "401994    18467       67             Red           Kia              Sportage   \n",
              "401996    45000       15          Silver      Vauxhall                 Corsa   \n",
              "402003    10250       65             Red        Abarth                   595   \n",
              "\n",
              "       vehicle_condition  year_of_registration  body_type  \\\n",
              "3                   USED                  2016  Hatchback   \n",
              "6                   USED                  2017  Hatchback   \n",
              "11                  USED                  2017  Hatchback   \n",
              "14                  USED                  2017  Hatchback   \n",
              "15                  USED                  2016        MPV   \n",
              "...                  ...                   ...        ...   \n",
              "401981              USED                  2017     Saloon   \n",
              "401985              USED                  2017        SUV   \n",
              "401994              USED                  2017        SUV   \n",
              "401996              USED                  2015  Hatchback   \n",
              "402003              USED                  2015  Hatchback   \n",
              "\n",
              "       crossover_car_and_van fuel_type  \n",
              "3                          0    Diesel  \n",
              "6                          0    Petrol  \n",
              "11                         0    Petrol  \n",
              "14                         0    Petrol  \n",
              "15                         0    Diesel  \n",
              "...                      ...       ...  \n",
              "401981                     0    Diesel  \n",
              "401985                     0    Diesel  \n",
              "401994                     0    Petrol  \n",
              "401996                     0    Petrol  \n",
              "402003                     0    Petrol  \n",
              "\n",
              "[113899 rows x 10 columns]"
            ],
            "text/html": [
              "\n",
              "  <div id=\"df-5aeacd5c-4d4e-4d20-a586-82f26043f8e6\">\n",
              "    <div class=\"colab-df-container\">\n",
              "      <div>\n",
              "<style scoped>\n",
              "    .dataframe tbody tr th:only-of-type {\n",
              "        vertical-align: middle;\n",
              "    }\n",
              "\n",
              "    .dataframe tbody tr th {\n",
              "        vertical-align: top;\n",
              "    }\n",
              "\n",
              "    .dataframe thead th {\n",
              "        text-align: right;\n",
              "    }\n",
              "</style>\n",
              "<table border=\"1\" class=\"dataframe\">\n",
              "  <thead>\n",
              "    <tr style=\"text-align: right;\">\n",
              "      <th></th>\n",
              "      <th>mileage</th>\n",
              "      <th>reg_code</th>\n",
              "      <th>standard_colour</th>\n",
              "      <th>standard_make</th>\n",
              "      <th>standard_model</th>\n",
              "      <th>vehicle_condition</th>\n",
              "      <th>year_of_registration</th>\n",
              "      <th>body_type</th>\n",
              "      <th>crossover_car_and_van</th>\n",
              "      <th>fuel_type</th>\n",
              "    </tr>\n",
              "  </thead>\n",
              "  <tbody>\n",
              "    <tr>\n",
              "      <th>3</th>\n",
              "      <td>45000</td>\n",
              "      <td>16</td>\n",
              "      <td>Brown</td>\n",
              "      <td>Vauxhall</td>\n",
              "      <td>Mokka</td>\n",
              "      <td>USED</td>\n",
              "      <td>2016</td>\n",
              "      <td>Hatchback</td>\n",
              "      <td>0</td>\n",
              "      <td>Diesel</td>\n",
              "    </tr>\n",
              "    <tr>\n",
              "      <th>6</th>\n",
              "      <td>24075</td>\n",
              "      <td>17</td>\n",
              "      <td>Red</td>\n",
              "      <td>Vauxhall</td>\n",
              "      <td>Viva</td>\n",
              "      <td>USED</td>\n",
              "      <td>2017</td>\n",
              "      <td>Hatchback</td>\n",
              "      <td>0</td>\n",
              "      <td>Petrol</td>\n",
              "    </tr>\n",
              "    <tr>\n",
              "      <th>11</th>\n",
              "      <td>24487</td>\n",
              "      <td>17</td>\n",
              "      <td>Black</td>\n",
              "      <td>Peugeot</td>\n",
              "      <td>208</td>\n",
              "      <td>USED</td>\n",
              "      <td>2017</td>\n",
              "      <td>Hatchback</td>\n",
              "      <td>0</td>\n",
              "      <td>Petrol</td>\n",
              "    </tr>\n",
              "    <tr>\n",
              "      <th>14</th>\n",
              "      <td>31534</td>\n",
              "      <td>17</td>\n",
              "      <td>Grey</td>\n",
              "      <td>MINI</td>\n",
              "      <td>Hatch</td>\n",
              "      <td>USED</td>\n",
              "      <td>2017</td>\n",
              "      <td>Hatchback</td>\n",
              "      <td>0</td>\n",
              "      <td>Petrol</td>\n",
              "    </tr>\n",
              "    <tr>\n",
              "      <th>15</th>\n",
              "      <td>38603</td>\n",
              "      <td>16</td>\n",
              "      <td>Blue</td>\n",
              "      <td>BMW</td>\n",
              "      <td>2 Series Gran Tourer</td>\n",
              "      <td>USED</td>\n",
              "      <td>2016</td>\n",
              "      <td>MPV</td>\n",
              "      <td>0</td>\n",
              "      <td>Diesel</td>\n",
              "    </tr>\n",
              "    <tr>\n",
              "      <th>...</th>\n",
              "      <td>...</td>\n",
              "      <td>...</td>\n",
              "      <td>...</td>\n",
              "      <td>...</td>\n",
              "      <td>...</td>\n",
              "      <td>...</td>\n",
              "      <td>...</td>\n",
              "      <td>...</td>\n",
              "      <td>...</td>\n",
              "      <td>...</td>\n",
              "    </tr>\n",
              "    <tr>\n",
              "      <th>401981</th>\n",
              "      <td>30444</td>\n",
              "      <td>17</td>\n",
              "      <td>Black</td>\n",
              "      <td>BMW</td>\n",
              "      <td>4 Series Gran Coupe</td>\n",
              "      <td>USED</td>\n",
              "      <td>2017</td>\n",
              "      <td>Saloon</td>\n",
              "      <td>0</td>\n",
              "      <td>Diesel</td>\n",
              "    </tr>\n",
              "    <tr>\n",
              "      <th>401985</th>\n",
              "      <td>42377</td>\n",
              "      <td>17</td>\n",
              "      <td>White</td>\n",
              "      <td>Mazda</td>\n",
              "      <td>CX-5</td>\n",
              "      <td>USED</td>\n",
              "      <td>2017</td>\n",
              "      <td>SUV</td>\n",
              "      <td>0</td>\n",
              "      <td>Diesel</td>\n",
              "    </tr>\n",
              "    <tr>\n",
              "      <th>401994</th>\n",
              "      <td>18467</td>\n",
              "      <td>67</td>\n",
              "      <td>Red</td>\n",
              "      <td>Kia</td>\n",
              "      <td>Sportage</td>\n",
              "      <td>USED</td>\n",
              "      <td>2017</td>\n",
              "      <td>SUV</td>\n",
              "      <td>0</td>\n",
              "      <td>Petrol</td>\n",
              "    </tr>\n",
              "    <tr>\n",
              "      <th>401996</th>\n",
              "      <td>45000</td>\n",
              "      <td>15</td>\n",
              "      <td>Silver</td>\n",
              "      <td>Vauxhall</td>\n",
              "      <td>Corsa</td>\n",
              "      <td>USED</td>\n",
              "      <td>2015</td>\n",
              "      <td>Hatchback</td>\n",
              "      <td>0</td>\n",
              "      <td>Petrol</td>\n",
              "    </tr>\n",
              "    <tr>\n",
              "      <th>402003</th>\n",
              "      <td>10250</td>\n",
              "      <td>65</td>\n",
              "      <td>Red</td>\n",
              "      <td>Abarth</td>\n",
              "      <td>595</td>\n",
              "      <td>USED</td>\n",
              "      <td>2015</td>\n",
              "      <td>Hatchback</td>\n",
              "      <td>0</td>\n",
              "      <td>Petrol</td>\n",
              "    </tr>\n",
              "  </tbody>\n",
              "</table>\n",
              "<p>113899 rows × 10 columns</p>\n",
              "</div>\n",
              "      <button class=\"colab-df-convert\" onclick=\"convertToInteractive('df-5aeacd5c-4d4e-4d20-a586-82f26043f8e6')\"\n",
              "              title=\"Convert this dataframe to an interactive table.\"\n",
              "              style=\"display:none;\">\n",
              "        \n",
              "  <svg xmlns=\"http://www.w3.org/2000/svg\" height=\"24px\"viewBox=\"0 0 24 24\"\n",
              "       width=\"24px\">\n",
              "    <path d=\"M0 0h24v24H0V0z\" fill=\"none\"/>\n",
              "    <path d=\"M18.56 5.44l.94 2.06.94-2.06 2.06-.94-2.06-.94-.94-2.06-.94 2.06-2.06.94zm-11 1L8.5 8.5l.94-2.06 2.06-.94-2.06-.94L8.5 2.5l-.94 2.06-2.06.94zm10 10l.94 2.06.94-2.06 2.06-.94-2.06-.94-.94-2.06-.94 2.06-2.06.94z\"/><path d=\"M17.41 7.96l-1.37-1.37c-.4-.4-.92-.59-1.43-.59-.52 0-1.04.2-1.43.59L10.3 9.45l-7.72 7.72c-.78.78-.78 2.05 0 2.83L4 21.41c.39.39.9.59 1.41.59.51 0 1.02-.2 1.41-.59l7.78-7.78 2.81-2.81c.8-.78.8-2.07 0-2.86zM5.41 20L4 18.59l7.72-7.72 1.47 1.35L5.41 20z\"/>\n",
              "  </svg>\n",
              "      </button>\n",
              "      \n",
              "  <style>\n",
              "    .colab-df-container {\n",
              "      display:flex;\n",
              "      flex-wrap:wrap;\n",
              "      gap: 12px;\n",
              "    }\n",
              "\n",
              "    .colab-df-convert {\n",
              "      background-color: #E8F0FE;\n",
              "      border: none;\n",
              "      border-radius: 50%;\n",
              "      cursor: pointer;\n",
              "      display: none;\n",
              "      fill: #1967D2;\n",
              "      height: 32px;\n",
              "      padding: 0 0 0 0;\n",
              "      width: 32px;\n",
              "    }\n",
              "\n",
              "    .colab-df-convert:hover {\n",
              "      background-color: #E2EBFA;\n",
              "      box-shadow: 0px 1px 2px rgba(60, 64, 67, 0.3), 0px 1px 3px 1px rgba(60, 64, 67, 0.15);\n",
              "      fill: #174EA6;\n",
              "    }\n",
              "\n",
              "    [theme=dark] .colab-df-convert {\n",
              "      background-color: #3B4455;\n",
              "      fill: #D2E3FC;\n",
              "    }\n",
              "\n",
              "    [theme=dark] .colab-df-convert:hover {\n",
              "      background-color: #434B5C;\n",
              "      box-shadow: 0px 1px 3px 1px rgba(0, 0, 0, 0.15);\n",
              "      filter: drop-shadow(0px 1px 2px rgba(0, 0, 0, 0.3));\n",
              "      fill: #FFFFFF;\n",
              "    }\n",
              "  </style>\n",
              "\n",
              "      <script>\n",
              "        const buttonEl =\n",
              "          document.querySelector('#df-5aeacd5c-4d4e-4d20-a586-82f26043f8e6 button.colab-df-convert');\n",
              "        buttonEl.style.display =\n",
              "          google.colab.kernel.accessAllowed ? 'block' : 'none';\n",
              "\n",
              "        async function convertToInteractive(key) {\n",
              "          const element = document.querySelector('#df-5aeacd5c-4d4e-4d20-a586-82f26043f8e6');\n",
              "          const dataTable =\n",
              "            await google.colab.kernel.invokeFunction('convertToInteractive',\n",
              "                                                     [key], {});\n",
              "          if (!dataTable) return;\n",
              "\n",
              "          const docLinkHtml = 'Like what you see? Visit the ' +\n",
              "            '<a target=\"_blank\" href=https://colab.research.google.com/notebooks/data_table.ipynb>data table notebook</a>'\n",
              "            + ' to learn more about interactive tables.';\n",
              "          element.innerHTML = '';\n",
              "          dataTable['output_type'] = 'display_data';\n",
              "          await google.colab.output.renderOutput(dataTable, element);\n",
              "          const docLink = document.createElement('div');\n",
              "          docLink.innerHTML = docLinkHtml;\n",
              "          element.appendChild(docLink);\n",
              "        }\n",
              "      </script>\n",
              "    </div>\n",
              "  </div>\n",
              "  "
            ]
          },
          "metadata": {},
          "execution_count": 49
        }
      ]
    },
    {
      "cell_type": "code",
      "source": [
        "y"
      ],
      "metadata": {
        "colab": {
          "base_uri": "https://localhost:8080/"
        },
        "id": "oUZoYhGP5A51",
        "outputId": "35949f7d-d454-4c46-8f92-45b7d925b630"
      },
      "execution_count": 50,
      "outputs": [
        {
          "output_type": "execute_result",
          "data": {
            "text/plain": [
              "3          7995\n",
              "6          5861\n",
              "11         8795\n",
              "14        19000\n",
              "15        16000\n",
              "          ...  \n",
              "401981    18990\n",
              "401985    17900\n",
              "401994    15994\n",
              "401996     5000\n",
              "402003    11490\n",
              "Name: price, Length: 113899, dtype: int64"
            ]
          },
          "metadata": {},
          "execution_count": 50
        }
      ]
    },
    {
      "cell_type": "code",
      "source": [
        "from sklearn.model_selection import train_test_split\n",
        "X_train,X_test,y_train,y_test=train_test_split(X,y,test_size=0.3)\n",
        "from sklearn.linear_model import LinearRegression\n",
        "from sklearn.preprocessing import OneHotEncoder\n",
        "from sklearn.compose import make_column_transformer\n",
        "from sklearn.pipeline import make_pipeline\n",
        "from sklearn.metrics import r2_score"
      ],
      "metadata": {
        "id": "Yxxuzzpj5B5P"
      },
      "execution_count": 51,
      "outputs": []
    },
    {
      "cell_type": "code",
      "source": [
        "ohe=OneHotEncoder()\n",
        "ohe.fit(X[['reg_code','standard_colour', 'standard_make','standard_model', 'vehicle_condition','body_type','fuel_type']])"
      ],
      "metadata": {
        "colab": {
          "base_uri": "https://localhost:8080/"
        },
        "id": "5W56GiFFfDQM",
        "outputId": "99747ba1-24d0-4ac7-c794-7ccd505b2833"
      },
      "execution_count": 52,
      "outputs": [
        {
          "output_type": "execute_result",
          "data": {
            "text/plain": [
              "OneHotEncoder()"
            ]
          },
          "metadata": {},
          "execution_count": 52
        }
      ]
    },
    {
      "cell_type": "code",
      "source": [
        "column_trans=make_column_transformer((OneHotEncoder(categories=ohe.categories_),['reg_code','standard_colour', 'standard_make','standard_model', 'vehicle_condition','body_type','fuel_type']),\n",
        "                                    remainder='passthrough')"
      ],
      "metadata": {
        "id": "LHbHhsgWfoKf"
      },
      "execution_count": 53,
      "outputs": []
    },
    {
      "cell_type": "code",
      "source": [
        "lr=LinearRegression()"
      ],
      "metadata": {
        "id": "ClOOdkTd5nao"
      },
      "execution_count": 54,
      "outputs": []
    },
    {
      "cell_type": "code",
      "source": [
        "car_dataset.dtypes"
      ],
      "metadata": {
        "colab": {
          "base_uri": "https://localhost:8080/"
        },
        "id": "y7L4GaKTxcHW",
        "outputId": "f61ca3b4-94bb-485b-b06c-9aaba6d7906d"
      },
      "execution_count": 55,
      "outputs": [
        {
          "output_type": "execute_result",
          "data": {
            "text/plain": [
              "mileage                   int64\n",
              "reg_code                 object\n",
              "standard_colour          object\n",
              "standard_make            object\n",
              "standard_model           object\n",
              "vehicle_condition        object\n",
              "year_of_registration      int64\n",
              "price                     int64\n",
              "body_type                object\n",
              "crossover_car_and_van    object\n",
              "fuel_type                object\n",
              "dtype: object"
            ]
          },
          "metadata": {},
          "execution_count": 55
        }
      ]
    },
    {
      "cell_type": "code",
      "source": [
        "pipe=make_pipeline(column_trans,lr)"
      ],
      "metadata": {
        "id": "KMKtfgvL6VpK"
      },
      "execution_count": 56,
      "outputs": []
    },
    {
      "cell_type": "code",
      "source": [
        "pipe.fit(X_train,y_train)"
      ],
      "metadata": {
        "colab": {
          "base_uri": "https://localhost:8080/"
        },
        "id": "NJelqt9rfwOh",
        "outputId": "6b61e905-5fb5-48f1-fcbf-0498a558e127"
      },
      "execution_count": 57,
      "outputs": [
        {
          "output_type": "execute_result",
          "data": {
            "text/plain": [
              "Pipeline(steps=[('columntransformer',\n",
              "                 ColumnTransformer(remainder='passthrough',\n",
              "                                   transformers=[('onehotencoder',\n",
              "                                                  OneHotEncoder(categories=[array(['08', '10', '11', '12', '13', '14', '15', '16', '17', '18', '19',\n",
              "       '20', '37', '58', '60', '61', '62', '63', '64', '65', '66', '67',\n",
              "       '68', '69', '94', '95', 'F', 'G', 'P', 'R', 'Y'], dtype=object),\n",
              "                                                                            array(['Beige', 'Black', 'Blue', 'Bronze', 'Br...\n",
              "       'Estate', 'Hatchback', 'MPV', 'Minibus', 'Panel Van', 'Pickup',\n",
              "       'SUV', 'Saloon', 'Window Van'], dtype=object),\n",
              "                                                                            array(['Diesel', 'Diesel Hybrid', 'Diesel Plug-in Hybrid', 'Electric',\n",
              "       'Petrol', 'Petrol Hybrid', 'Petrol Plug-in Hybrid'], dtype=object)]),\n",
              "                                                  ['reg_code',\n",
              "                                                   'standard_colour',\n",
              "                                                   'standard_make',\n",
              "                                                   'standard_model',\n",
              "                                                   'vehicle_condition',\n",
              "                                                   'body_type',\n",
              "                                                   'fuel_type'])])),\n",
              "                ('linearregression', LinearRegression())])"
            ]
          },
          "metadata": {},
          "execution_count": 57
        }
      ]
    },
    {
      "cell_type": "code",
      "source": [
        "y_pred=pipe.predict(X_test)"
      ],
      "metadata": {
        "id": "_hTTmI5P6Y8i"
      },
      "execution_count": 58,
      "outputs": []
    },
    {
      "cell_type": "code",
      "source": [
        "r2_score(y_test,y_pred)"
      ],
      "metadata": {
        "colab": {
          "base_uri": "https://localhost:8080/"
        },
        "id": "CpuCC1qnf2nS",
        "outputId": "9bbf0741-c3ab-45c1-f5af-03029f4356bd"
      },
      "execution_count": 59,
      "outputs": [
        {
          "output_type": "execute_result",
          "data": {
            "text/plain": [
              "0.8556035480856969"
            ]
          },
          "metadata": {},
          "execution_count": 59
        }
      ]
    }
  ]
}